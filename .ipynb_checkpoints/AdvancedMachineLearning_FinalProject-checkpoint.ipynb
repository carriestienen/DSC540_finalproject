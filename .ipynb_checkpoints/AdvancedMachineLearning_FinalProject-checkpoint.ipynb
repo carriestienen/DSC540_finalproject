{
 "cells": [
  {
   "cell_type": "markdown",
   "metadata": {
    "id": "WhMoDz8V3-LK"
   },
   "source": [
    "Brooke Bilton, Carrie Stienen, Jacob Mikrut, James Formato\n",
    "\n",
    "**•Motivation [10]: What problem are you tackling, and what's the setting you're considering? What data are you working on? Did anything change from the proposal regarding data, objectives, and methods that you will apply?**\n",
    "\n",
    "We have shifted our focus in the dataset to the portion of the respondants that have indicated that a doctor has told them they have Diabetes (variable DIQ010). Since this dataset hase almost 1,800 variables we needed to focus on a more manageable subset. We decided to focus on the data that involves people with diabetes. We are now working towards using subsets of variables (demographics, lab results, diet info, exam info, and a questionnaire) to predict whether or not people have diabetes. The biggest problems we are encoutering is a large amount of missing data and many attributes that are extremely weakly correlated to our dependent variable (DIQ010).\n",
    "\n",
    "**•Exploratory Data Analysis (EDA) [30]: What data visualizations have you applied? What are your findings in the data before applying any data mining technique? At this stage sufficient EDA should have been done.**\n",
    "\n",
    "(Brooke) Some exploratory data analysis techniques that were used include heatmaps to view variable correlations, descriptive statistics to get an overall idea about what the data looks like, and different visualizations to show the distributions of the variables. 1D and 2D scatter plots, histograms, and bar charts were used. From the lab data, we can conclude that 25% of the patients have total cholesteral higher than 200, which could indicate a likelihood of those individuals having diabetes.\n",
    "\n",
    "(John) The correlation matrix revealed that out of the 30 variables we chose, only 8 have a correlation greater than 0.1 and only 3 have correlations greater than 0.2 relative to the target. The demographic variables except for RIDAGEYR and DMDHHSIZ (Age and Household size) were almost completely uncorrelated to our target variable. \n",
    "\n",
    "(Jacob) I utilized displots, binned displots and jointplots. I first wanted to view if there were any correlation between blood pressure and our dependent variable ('DIQ010’). For this I used a jointplot. This created an easy visualization in order to observe where the distribution of positive and negative test cases were located along the range of systolic (‘BPXSY1’) and diastolic (‘BPXDI1’) blood pressure readings. I placed axis lines that highlight the ideal ranges for both values. For the rest of the examination variables, they are variables that entertain a range of values. A displot creates the most visually straight forward representation of this data. I then categorized the visualizations in order to show the correlation between the distribution of positive and negative cases per value.\n",
    "\n",
    "(James) I utilized two different vizualization techniques. The first was a heatmap of only \"dietary\" type columns. As expected most of the actual nutrients included in our diet are highly correlated with one another. This makes sense since the intake of food shares a linear relationship with one another. Interestingly, caffiene intake is not that correlated with teh other variabels, which is something I expected. I also, expected alchol intake to have a higher correlation, but people may not drink as much as I thought, or they're lying to their doctors.\n",
    "\n",
    "I also ran two PCA anlysis on the data. The first was on only dietary columns, while the second was on the entire selected dataset. When looking soley at the dietary variables most of the variance is captured within one component. Using two principal components captures about 91% of the variance within the dietary variables. Which is to be expected from looking at the correlation matrix. Since all the nutrient variables were highly correlated its to be expected that most of the variance is captured within one component. \n",
    "\n",
    "When looking at the entire dataset, about four principal components capture 94% of the variance in our dataset. Which is incredible given there are 30 features in the dataset. Given that our dataset is comprised of 5 main categories it makes sense and seems realistic.\n",
    "\n",
    "\n",
    "\n",
    "**•Machine Learning (ML) [10]: Which ML techniques have you tried? What others will you apply?**\n",
    "\n",
    "(John) I used both Random Forest and AdaBoost. Both performed very poorly even while only using a subset of our data had higher correlations to the target variable. In both cases, the models performed poorly at classifying positives cases (people with diabetes). Grid Search was used with both and hyperparameters were found that are similar to the default values.\n",
    "\n",
    "(Brooke) I used a Decision Tree Classifer with all of the variables we selected, and used the variable for whether or not the doctor said you have diabetes as the target variable.\n",
    "\n",
    "**•Experiment results [10]: Show the ML experiments that you've run, the outcomes, and any error analysis that you've done. ** \n",
    "Random Forest - accuracy = 90%, Matthew's Correlation Coef = 0.27\n",
    "This model is very bad at classifying positive cases (low recall score). \n",
    "AbaBoost - accuracy = 90%, Matthew's Correlation Coef = UndefinedIt seems like our independent variables are not correlated highly enough to the target to produce good RF or AdaBoost models.\n",
    "\n",
    "Decicsion Tree Classifier- Accuracy = 85% with a low recall score 0.36\n",
    "\n",
    "\n",
    "**•Research questions [20]: Which of the research questions have you tried to answer that you came up with during your proposal?**\n",
    "\n",
    "\n",
    "What lab results are most correlated to each other and to various demographic groups? Can we use these to predict potential health problems? \n",
    "  ·  Correlation matrix, regression analysis \n",
    "\n",
    "<strong>We sorted through the variables, pulled out the vars we found most relevant and that had the least number of missing values. We then ran a correlation matrix on them to observe which variables seem to trend with a positive rate of diabetes. We found that 'BPXSY1', 'BMXBMI', 'BMXWAIST', 'LBXSKSI', 'LBXWBCSI', 'DR1TCARB', 'DR1TKCAL', 'DR1TSUGR', 'RIDAGEYR', 'DMDHHSIZ' variables all had a correlation threshhold of 0.075 or greater to our dependent variable('DIQ010')\n",
    "</strong>\n",
    "\n",
    "What variable values are potentially indicators for other health outcomes?  \n",
    "  · clustering \n",
    "\n",
    "<strong>\n",
    "We have yet to test our data set to correlate with other potential health outcomes/ailments, apart from those directly related to diabetes such as hypertension and BMI.\n",
    "</strong>\n",
    "\n",
    "\n",
    "What values of specific variables indicate potential “danger zones” for different health outcomes?             \n",
    "  ·  K-nearest neighbor \n",
    "\n",
    "<strong>\n",
    "Due to our projects pivot towards concentrating mostly on diabetes and the lack of correlating variables/missing values we changed this question. We are exploring what values of our correlating variables relate to the 185 test cases that responded as \"borderline\" (value = 3) diebetic patients to our dependent variable('DIQ010'). The small testing sample of these \"borderline\" observations makes finding any true correlation difficult.\n",
    "</strong>\n",
    "\n",
    "If different demographic or dietary intake correlate with lab results to offer insight on potential increased risk for health ailments. \n",
    "  · Classification\n",
    "\n",
    "<strong>\n",
    "We ran preliminary correlation testing on demographic data, and it didn’t seem to yield any meaningful correlation with dependent variable('DIQ010’). The only variables that seem to relate were age ('RIDAGEYR') and number of individuals in the household ('DMDHHSIZ’). Because of the lack of effective results, we haven’t sent much time on this.\n",
    "</strong>\n",
    "\n",
    "\n",
    "\n",
    "\n",
    "•Next steps [10]: Given your preliminary results, what are the next steps that you're considering?\n",
    "\n",
    "In addition to Random Forest and AdaBoost, we will also use PCA, SVM, and Regression. PCA should allow us to drastically reduce the number of variables contributing to our models. SVM usually works well for dataset with many variables and not many rows like ours has. Since much of our independent variables are continuous, regression also has a chance of performing well assuming we can find an optimal subset of variables to include. \n",
    "\n",
    "•Contributions [10]: By now it should be clear what each person has done/ will do next. Please include a section that describes what each team member worked on and contributed to the project and will contribute in the coming weeks. Each member of the team should have a fair share of the work for the development of a successful project. If a member has not contributed, that should be clearly written as well. \n",
    "\n",
    "- jacob mikrut - exploratory data analysis of variables related to the examination data table and answering research questions. \n",
    "\n",
    "-Brooke Bilton- conducted exploratory analysis on variables related to Lab Results as well as tested out a decision tree classifier\n",
    "\n",
    "John - Current work - Random Forest models, AdaBoost model, visualizations with demographic data\n",
    "    - Future Work - Feature selection, hyperparameter tuning, more model building (Gradient Boosting)\n",
    "\n",
    "James Formato - Current Work: built web scraper for variable explanations. Did exploratory analysis of dietary variables. Did PCA analysis of dietary features and of the entire dataset. \n",
    "              - Future Work: Looking to utilize kernal PCA or implement a ML model we have learned in class thus far.\n"
   ]
  },
  {
   "cell_type": "markdown",
   "metadata": {
    "id": "amjSzIdnC4dm"
   },
   "source": [
    "### Abstract"
   ]
  },
  {
   "cell_type": "markdown",
   "metadata": {},
   "source": [
    "This notebook explores the National Health and Nutrition Examination Survey (NHANES) data set from 2013-2014. Our goal is to correctly classify people with or without Diabetes using demographic, laboratory, physical exam, diet, and questionnaire attributes collected for 10,000 people. We use various visualizations to show differences between the positive (with Diabetes) and negative (without Diabetes) cases and apply Decision Tree, Random Forest, Support Vector Machines, and Gradient Boosting to classify individuals. Classification did not produce accurate results for any of the models which we believe is due to most independent variables having extremely little correlation to our target variable."
   ]
  },
  {
   "cell_type": "markdown",
   "metadata": {},
   "source": [
    "### Introduction"
   ]
  },
  {
   "cell_type": "markdown",
   "metadata": {},
   "source": [
    "Diabetes is becoming more and more prevalent in the U.S. There are many contributing factors that lead to Type II Diabetes which are mainly attributed to lifestyle choices. To reduce healthcare costs and improve quality of life for those with Diabetes, it is extremely important to get an early diagnosis and proper treatment. People with diabetes that go untreated experience a wide range of complications that are both expensive to treat and significantly impact quality of life. We explore the NHANES data set from 2013-2014 to find differences between people with and without diabetes and use those factors in various machine learning models to predict wheter or not someone has the disease."
   ]
  },
  {
   "cell_type": "code",
   "execution_count": 4,
   "metadata": {
    "colab": {
     "base_uri": "https://localhost:8080/"
    },
    "executionInfo": {
     "elapsed": 578,
     "status": "ok",
     "timestamp": 1604374668940,
     "user": {
      "displayName": "James Formato",
      "photoUrl": "",
      "userId": "11799095701675521078"
     },
     "user_tz": 360
    },
    "id": "6vawYm6rtYT1",
    "outputId": "97998176-744e-4a59-bf3a-7964973964a2"
   },
   "outputs": [
    {
     "name": "stdout",
     "output_type": "stream",
     "text": [
      "3.8.3 (default, Jul  2 2020, 11:26:31) \n",
      "[Clang 10.0.0 ]\n"
     ]
    }
   ],
   "source": [
    "import sys\n",
    "print(sys.version)"
   ]
  },
  {
   "cell_type": "code",
   "execution_count": 5,
   "metadata": {
    "id": "M__b1Ttht3R3"
   },
   "outputs": [],
   "source": [
    "from io import StringIO\n",
    "import requests\n",
    "import pandas as pd\n",
    "import numpy as np\n",
    "import seaborn as sns\n",
    "import matplotlib.pyplot as plt\n",
    "from sklearn.model_selection import train_test_split\n",
    "from sklearn.tree import DecisionTreeClassifier\n",
    "from sklearn import metrics\n",
    "from sklearn.decomposition import PCA\n",
    "from sklearn.preprocessing import StandardScaler"
   ]
  },
  {
   "cell_type": "code",
   "execution_count": null,
   "metadata": {},
   "outputs": [],
   "source": []
  },
  {
   "cell_type": "code",
   "execution_count": 6,
   "metadata": {
    "colab": {
     "base_uri": "https://localhost:8080/"
    },
    "executionInfo": {
     "elapsed": 8397,
     "status": "ok",
     "timestamp": 1604374676777,
     "user": {
      "displayName": "James Formato",
      "photoUrl": "",
      "userId": "11799095701675521078"
     },
     "user_tz": 360
    },
    "id": "HmCPE30w5uv1",
    "outputId": "a377b86e-2717-47b9-f747-2083c3efa733"
   },
   "outputs": [
    {
     "name": "stderr",
     "output_type": "stream",
     "text": [
      "/Users/brookebilton/opt/anaconda3/lib/python3.8/site-packages/IPython/core/interactiveshell.py:3071: DtypeWarning: Columns (1664) have mixed types.Specify dtype option on import or set low_memory=False.\n",
      "  has_raised = await self.run_ast_nodes(code_ast.body, cell_name,\n"
     ]
    },
    {
     "name": "stdout",
     "output_type": "stream",
     "text": [
      "    SEQN  SDDSRVYR  RIDSTATR  RIAGENDR  RIDAGEYR  RIDAGEMN  RIDRETH1  \\\n",
      "0  73557         8         2         1        69       NaN         4   \n",
      "1  73558         8         2         1        54       NaN         3   \n",
      "2  73559         8         2         1        72       NaN         3   \n",
      "3  73560         8         2         1         9       NaN         3   \n",
      "4  73561         8         2         2        73       NaN         3   \n",
      "\n",
      "   RIDRETH3  RIDEXMON  RIDEXAGM  ...  WHD080U  WHD080L  WHD110  WHD120  \\\n",
      "0         4       1.0       NaN  ...      NaN     40.0   270.0   200.0   \n",
      "1         3       1.0       NaN  ...      NaN      NaN   240.0   250.0   \n",
      "2         3       2.0       NaN  ...      NaN      NaN   180.0   190.0   \n",
      "3         3       1.0     119.0  ...      NaN      NaN     NaN     NaN   \n",
      "4         3       1.0       NaN  ...      NaN      NaN   150.0   135.0   \n",
      "\n",
      "   WHD130  WHD140  WHQ150  WHQ030M  WHQ500  WHQ520  \n",
      "0    69.0   270.0    62.0      NaN     NaN     NaN  \n",
      "1    72.0   250.0    25.0      NaN     NaN     NaN  \n",
      "2    70.0   228.0    35.0      NaN     NaN     NaN  \n",
      "3     NaN     NaN     NaN      3.0     3.0     3.0  \n",
      "4    67.0   170.0    60.0      NaN     NaN     NaN  \n",
      "\n",
      "[5 rows x 1812 columns]\n"
     ]
    }
   ],
   "source": [
    "# getData\n",
    "\n",
    "orig_url = \"https://drive.google.com/uc?export=download&id=1XrPnbUNcv3kzRBDOpfV0kNTNnxEDHTTT\"\n",
    "url = requests.get(orig_url)\n",
    "csv_raw = StringIO(url.text)\n",
    "dfs = pd.read_csv(csv_raw)\n",
    "dfs = dfs.drop(columns=['Unnamed: 0'])\n",
    "print(dfs.head())"
   ]
  },
  {
   "cell_type": "code",
   "execution_count": null,
   "metadata": {
    "colab": {
     "base_uri": "https://localhost:8080/",
     "height": 195
    },
    "executionInfo": {
     "elapsed": 23063,
     "status": "ok",
     "timestamp": 1604374691453,
     "user": {
      "displayName": "James Formato",
      "photoUrl": "",
      "userId": "11799095701675521078"
     },
     "user_tz": 360
    },
    "id": "DnRkrXb7usex",
    "outputId": "56b55ddb-e4ca-4450-9253-e18a570d410c"
   },
   "outputs": [
    {
     "data": {
      "text/html": [
       "<div>\n",
       "<style scoped>\n",
       "    .dataframe tbody tr th:only-of-type {\n",
       "        vertical-align: middle;\n",
       "    }\n",
       "\n",
       "    .dataframe tbody tr th {\n",
       "        vertical-align: top;\n",
       "    }\n",
       "\n",
       "    .dataframe thead th {\n",
       "        text-align: right;\n",
       "    }\n",
       "</style>\n",
       "<table border=\"1\" class=\"dataframe\">\n",
       "  <thead>\n",
       "    <tr style=\"text-align: right;\">\n",
       "      <th></th>\n",
       "      <th>Variable Name</th>\n",
       "      <th>Variable Description</th>\n",
       "      <th>Data File Name</th>\n",
       "      <th>Data File Description</th>\n",
       "      <th>Begin Year</th>\n",
       "      <th>EndYear</th>\n",
       "      <th>Component</th>\n",
       "      <th>Use Constraints</th>\n",
       "    </tr>\n",
       "  </thead>\n",
       "  <tbody>\n",
       "    <tr>\n",
       "      <th>0</th>\n",
       "      <td>DLQ010</td>\n",
       "      <td>With this next set of questions, we want to le...</td>\n",
       "      <td>DLQ_H</td>\n",
       "      <td>Disability</td>\n",
       "      <td>2013</td>\n",
       "      <td>2014</td>\n",
       "      <td>Questionnaire</td>\n",
       "      <td>None</td>\n",
       "    </tr>\n",
       "    <tr>\n",
       "      <th>1</th>\n",
       "      <td>DLQ020</td>\n",
       "      <td>{Are you/Is SP} blind or {do you/does he/does ...</td>\n",
       "      <td>DLQ_H</td>\n",
       "      <td>Disability</td>\n",
       "      <td>2013</td>\n",
       "      <td>2014</td>\n",
       "      <td>Questionnaire</td>\n",
       "      <td>None</td>\n",
       "    </tr>\n",
       "    <tr>\n",
       "      <th>2</th>\n",
       "      <td>DLQ040</td>\n",
       "      <td>Because of a physical, mental, or emotional co...</td>\n",
       "      <td>DLQ_H</td>\n",
       "      <td>Disability</td>\n",
       "      <td>2013</td>\n",
       "      <td>2014</td>\n",
       "      <td>Questionnaire</td>\n",
       "      <td>None</td>\n",
       "    </tr>\n",
       "    <tr>\n",
       "      <th>3</th>\n",
       "      <td>DLQ050</td>\n",
       "      <td>{Do you/Does SP} have serious difficulty walki...</td>\n",
       "      <td>DLQ_H</td>\n",
       "      <td>Disability</td>\n",
       "      <td>2013</td>\n",
       "      <td>2014</td>\n",
       "      <td>Questionnaire</td>\n",
       "      <td>None</td>\n",
       "    </tr>\n",
       "    <tr>\n",
       "      <th>4</th>\n",
       "      <td>DLQ060</td>\n",
       "      <td>{Do you/Does SP} have difficulty dressing or b...</td>\n",
       "      <td>DLQ_H</td>\n",
       "      <td>Disability</td>\n",
       "      <td>2013</td>\n",
       "      <td>2014</td>\n",
       "      <td>Questionnaire</td>\n",
       "      <td>None</td>\n",
       "    </tr>\n",
       "  </tbody>\n",
       "</table>\n",
       "</div>"
      ],
      "text/plain": [
       "  Variable Name                               Variable Description  \\\n",
       "0        DLQ010  With this next set of questions, we want to le...   \n",
       "1        DLQ020  {Are you/Is SP} blind or {do you/does he/does ...   \n",
       "2        DLQ040  Because of a physical, mental, or emotional co...   \n",
       "3        DLQ050  {Do you/Does SP} have serious difficulty walki...   \n",
       "4        DLQ060  {Do you/Does SP} have difficulty dressing or b...   \n",
       "\n",
       "  Data File Name Data File Description  Begin Year  EndYear      Component  \\\n",
       "0          DLQ_H            Disability        2013     2014  Questionnaire   \n",
       "1          DLQ_H            Disability        2013     2014  Questionnaire   \n",
       "2          DLQ_H            Disability        2013     2014  Questionnaire   \n",
       "3          DLQ_H            Disability        2013     2014  Questionnaire   \n",
       "4          DLQ_H            Disability        2013     2014  Questionnaire   \n",
       "\n",
       "  Use Constraints  \n",
       "0            None  \n",
       "1            None  \n",
       "2            None  \n",
       "3            None  \n",
       "4            None  "
      ]
     },
     "execution_count": 7,
     "metadata": {},
     "output_type": "execute_result"
    }
   ],
   "source": [
    "# Scraper\n",
    "\n",
    "links = [\"https://wwwn.cdc.gov/Nchs/Nhanes/Search/variablelist.aspx?Component=Questionnaire&CycleBeginYear=2013\",\n",
    "         \"https://wwwn.cdc.gov/Nchs/Nhanes/Search/variablelist.aspx?Component=Laboratory&CycleBeginYear=2013\",\n",
    "         \"https://wwwn.cdc.gov/Nchs/Nhanes/Search/variablelist.aspx?Component=Examination&CycleBeginYear=2013\",\n",
    "         \"https://wwwn.cdc.gov/Nchs/Nhanes/Search/variablelist.aspx?Component=Dietary&CycleBeginYear=2013\",\n",
    "         \"https://wwwn.cdc.gov/Nchs/Nhanes/Search/variablelist.aspx?Component=Demographics&CycleBeginYear=2013\"]\n",
    "\n",
    "dfCodes = pd.DataFrame()\n",
    "for link in links:\n",
    "  dfTemp = pd.read_html(link)\n",
    "  dfCodes = dfCodes.append(dfTemp)\n",
    "\n",
    "dfCodes.head()"
   ]
  },
  {
   "cell_type": "code",
   "execution_count": 8,
   "metadata": {
    "id": "1w6vM2Px7aK2"
   },
   "outputs": [],
   "source": [
    "# DIQ010 - Doctor told you have diabetes\n",
    "\n",
    "# View Variable Names\n",
    "\n",
    "# for val in dfCodes['Variable Description'].unique():\n",
    "#   print(val)"
   ]
  },
  {
   "cell_type": "code",
   "execution_count": null,
   "metadata": {
    "id": "tDHg4Ltg9YfD"
   },
   "outputs": [],
   "source": [
    "\n",
    "# correlations = dfs.corr()"
   ]
  },
  {
   "cell_type": "code",
   "execution_count": null,
   "metadata": {
    "id": "PsxLEq30-Pky"
   },
   "outputs": [],
   "source": [
    "# sns.heatmap(correlations.dropna(thresh=2).iloc[0:20, 0:20])"
   ]
  },
  {
   "cell_type": "code",
   "execution_count": null,
   "metadata": {
    "id": "-XeNXsHADyQ2"
   },
   "outputs": [],
   "source": []
  },
  {
   "cell_type": "code",
   "execution_count": null,
   "metadata": {
    "id": "lroOIfgBBS8X"
   },
   "outputs": [],
   "source": [
    "# dupes = dfCodes.duplicated()\n",
    "\n",
    "# for line in dupes:\n",
    "#   print(line)"
   ]
  },
  {
   "cell_type": "code",
   "execution_count": null,
   "metadata": {
    "id": "YwUSi-1rIltm"
   },
   "outputs": [],
   "source": [
    "# Examination columns - jacob\n",
    "\n",
    "# BPXSY1 - Systolic: Blood pres (1st rdg) mm Hg\n",
    "# BPXDI1 - Diastolic: Blood pres (1st rdg) mm Hg\n",
    "# -blood pressure top and bottom 1st reading.\n",
    "# Count - 7172 vs 2641 missing.\n",
    "\n",
    "# BMXWT - Weight (kg)\n",
    "# Count - 9723 vs 90 missing.\n",
    "\n",
    "# BMXHT - Standing Height (cm)\n",
    "# Count - 9067 vs 746 missing.\n",
    "\n",
    "# BMXBMI - Body Mass Index (kg/m**2)\n",
    "# Count - 9055 vs 758 missing.\n",
    "\n",
    "# BMXWAIST - Waist Circumference (cm)\n",
    "# Range of values\n",
    "# Count - 8661 vs 1152 missing\n",
    "\n",
    "# OHAROCDT - Decayed teeth\n",
    "# Count - 2325 vs 7097 missing.\n",
    "# ** so fairly inconclusive. \n",
    "\n",
    "# OHAREC - Overall recommendation for care\n",
    "# Categorical:\n",
    "# See dentist immediately\n",
    "# See dentist in next 2 weeks\n",
    "# See dentist when you can\n",
    "# Continue your reg routine\n",
    "# Count 8938 vs 484 missing.\n",
    "\n",
    "# ^ OHAREC DOESN'T SEEM TO EXIST IN THE DF, I DOUBLE CHECKED THE COLUMN NAME."
   ]
  },
  {
   "cell_type": "code",
   "execution_count": null,
   "metadata": {
    "colab": {
     "base_uri": "https://localhost:8080/",
     "height": 529
    },
    "executionInfo": {
     "elapsed": 24811,
     "status": "ok",
     "timestamp": 1604374693225,
     "user": {
      "displayName": "James Formato",
      "photoUrl": "",
      "userId": "11799095701675521078"
     },
     "user_tz": 360
    },
    "id": "Tmwc9MWZuMrX",
    "outputId": "88cb662b-affc-4641-cab5-53e25cb24323"
   },
   "outputs": [
    {
     "data": {
      "text/plain": [
       "'plot = sns.jointplot(data=dfs, x=\"BPXSY1\", y=\"BPXDI1\", hue=\"DIQ010\", palette=sns.color_palette(\"tab10\", 5))\\n# indicate normal zones for blood pressure\\nplot.ax_joint.axvline(x=90)\\nplot.ax_joint.axvline(x=140)\\nplot.ax_joint.axhline(y=60)\\nplot.ax_joint.axhline(y=90)'"
      ]
     },
     "execution_count": 13,
     "metadata": {},
     "output_type": "execute_result"
    }
   ],
   "source": [
    "# BPXSY1 - Systolic: Blood pres (1st rdg) mm Hg\n",
    "# BPXDI1 - Diastolic: Blood pres (1st rdg) mm Hg\n",
    "plot = sns.jointplot(data=dfs, x=\"BPXSY1\", y=\"BPXDI1\", hue=\"DIQ010\", palette=sns.color_palette(\"tab10\", 5))\n",
    "# indicate normal zones for blood pressure\n",
    "plot.ax_joint.axvline(x=90)\n",
    "plot.ax_joint.axvline(x=140)\n",
    "plot.ax_joint.axhline(y=60)\n",
    "plot.ax_joint.axhline(y=90)"
   ]
  },
  {
   "cell_type": "code",
   "execution_count": null,
   "metadata": {
    "colab": {
     "base_uri": "https://localhost:8080/",
     "height": 530
    },
    "executionInfo": {
     "elapsed": 25629,
     "status": "ok",
     "timestamp": 1604374694052,
     "user": {
      "displayName": "James Formato",
      "photoUrl": "",
      "userId": "11799095701675521078"
     },
     "user_tz": 360
    },
    "id": "qxKgV_oi9auH",
    "outputId": "41d56830-6c02-42aa-f085-46a501ac0d06"
   },
   "outputs": [],
   "source": [
    "# BMXWT - Weight (kg)\n",
    "sns.displot(data=dfs, x=\"BMXWT\",height=7, aspect=1.5, hue=\"DIQ010\", palette=sns.color_palette(\"tab10\", 5))"
   ]
  },
  {
   "cell_type": "code",
   "execution_count": null,
   "metadata": {
    "colab": {
     "base_uri": "https://localhost:8080/",
     "height": 530
    },
    "executionInfo": {
     "elapsed": 27287,
     "status": "ok",
     "timestamp": 1604374695720,
     "user": {
      "displayName": "James Formato",
      "photoUrl": "",
      "userId": "11799095701675521078"
     },
     "user_tz": 360
    },
    "id": "xf98fJbN9ljo",
    "outputId": "e76ef0dd-8ae6-4cbb-e2bf-cff977a45b33"
   },
   "outputs": [],
   "source": [
    "# BMXHT - Standing Height (cm)\n",
    "sns.displot(data=dfs, x=\"BMXHT\",height=7, aspect=1.5, hue=\"DIQ010\", palette=sns.color_palette(\"tab10\", 5))"
   ]
  },
  {
   "cell_type": "code",
   "execution_count": null,
   "metadata": {
    "colab": {
     "base_uri": "https://localhost:8080/",
     "height": 501
    },
    "executionInfo": {
     "elapsed": 27279,
     "status": "ok",
     "timestamp": 1604374695722,
     "user": {
      "displayName": "James Formato",
      "photoUrl": "",
      "userId": "11799095701675521078"
     },
     "user_tz": 360
    },
    "id": "FI3TCF6L9tFz",
    "outputId": "2eb6efeb-1405-4272-cec8-125b03dbf8a0"
   },
   "outputs": [
    {
     "data": {
      "text/plain": [
       "<BarContainer object of 4 artists>"
      ]
     },
     "execution_count": 16,
     "metadata": {},
     "output_type": "execute_result"
    },
    {
     "data": {
      "image/png": "[encoded data removed]",
      "text/plain": [
       "<Figure size 864x576 with 1 Axes>"
      ]
     },
     "metadata": {
      "needs_background": "light"
     },
     "output_type": "display_data"
    }
   ],
   "source": [
    "# BMXBMI - Body Mass Index (kg/m**2)\n",
    "# below 18.5 – you're in the underweight range\n",
    "# between 18.5 and 24.9 – you're in the healthy weight range\n",
    "# between 25 and 29.9 – you're in the overweight range\n",
    "# between 30+ – you're in the obese range \n",
    "\n",
    "ranges = [0,18.5,25,30,10000]\n",
    "dfs.groupby(pd.cut(dfs.BMXBMI, ranges)).count()\n",
    "\n",
    "bmi_cat_counts = [1837,2811,2095,2312]\n",
    "data = {'underweight': 1837, 'normal': 2811, 'overweight': 2095, 'obese': 2312}\n",
    "names = list(data.keys())\n",
    "values = list(data.values())\n",
    "\n",
    "fig, axs = plt.subplots(figsize=(12, 8))\n",
    "axs.bar(names, values)"
   ]
  },
  {
   "cell_type": "code",
   "execution_count": null,
   "metadata": {
    "colab": {
     "base_uri": "https://localhost:8080/",
     "height": 530
    },
    "executionInfo": {
     "elapsed": 28329,
     "status": "ok",
     "timestamp": 1604374696781,
     "user": {
      "displayName": "James Formato",
      "photoUrl": "",
      "userId": "11799095701675521078"
     },
     "user_tz": 360
    },
    "id": "vMLNYBo9-dnF",
    "outputId": "ca2d7399-a8fa-4bc3-be83-71075dc7b201"
   },
   "outputs": [],
   "source": [
    "# BMXWAIST - Waist Circumference (cm)\n",
    "sns.displot(data=dfs, x=\"BMXWAIST\",height=7, aspect=1.5, hue=\"DIQ010\", palette=sns.color_palette(\"hls\", 5))\n",
    "\n",
    "# MAY BE ABLE TO GET RID OF THIS BC THERE IS NOT STANDARIZED WAIST SIZE FOR COMPARISON THOUGH CAN SHOW CORRELATION BETWEEN SIZE AND POSITIVE RATE"
   ]
  },
  {
   "cell_type": "code",
   "execution_count": null,
   "metadata": {
    "id": "nkcJtw4U-5sK"
   },
   "outputs": [],
   "source": []
  },
  {
   "cell_type": "code",
   "execution_count": null,
   "metadata": {
    "id": "pJJczkutavK_"
   },
   "outputs": [],
   "source": [
    "# Lab Columns - Brooke\n",
    "\n",
    "# LBDTCSI - Total Cholesterol( mmol/L)\n",
    "# 7624 vs 2189 missing\n",
    "# LBXTC - Total Cholesterol( mg/dL) - using this one\n",
    "# 7624 vs 2189 missing \n",
    "\n",
    "# LBDINSI - Insulin (pmol/L)\n",
    "# 3093 vs 6720 missing    Not sure if we should include?\n",
    "# LBXIN - Insulin (uU/mL) - using this one\n",
    "# 3093 vs 6720 missing \n",
    "\n",
    "# LBDSTPSI - Total protein (g/L)\n",
    "# 6544 vs 3269 missing\n",
    "\n",
    "# LBXSCA - Total calcium (mg/dL)\n",
    "# 6511 vs 3302 missing\n",
    "\n",
    "# LBXSKSI - Potassium (mmol/L)\n",
    "# 6552 vs 3261 missing\n",
    "\n",
    "# LBXRBCSI - Red blood cell count (million cells/uL)\n",
    "# 8544 vs 1269 missing \n",
    "\n",
    "# LBXWBCSI - White blood cell count (1000 cells/uL)\n",
    "# 8544 vs 1269 missing"
   ]
  },
  {
   "cell_type": "code",
   "execution_count": null,
   "metadata": {
    "colab": {
     "base_uri": "https://localhost:8080/",
     "height": 284
    },
    "executionInfo": {
     "elapsed": 28317,
     "status": "ok",
     "timestamp": 1604374696783,
     "user": {
      "displayName": "James Formato",
      "photoUrl": "",
      "userId": "11799095701675521078"
     },
     "user_tz": 360
    },
    "id": "6znaO0FQPajX",
    "outputId": "49c6caf0-e3fe-4bb0-8625-4a8620852b42"
   },
   "outputs": [
    {
     "data": {
      "text/html": [
       "<div>\n",
       "<style scoped>\n",
       "    .dataframe tbody tr th:only-of-type {\n",
       "        vertical-align: middle;\n",
       "    }\n",
       "\n",
       "    .dataframe tbody tr th {\n",
       "        vertical-align: top;\n",
       "    }\n",
       "\n",
       "    .dataframe thead th {\n",
       "        text-align: right;\n",
       "    }\n",
       "</style>\n",
       "<table border=\"1\" class=\"dataframe\">\n",
       "  <thead>\n",
       "    <tr style=\"text-align: right;\">\n",
       "      <th></th>\n",
       "      <th>LBXTC</th>\n",
       "      <th>LBXIN</th>\n",
       "      <th>LBDSTPSI</th>\n",
       "      <th>LBXSCA</th>\n",
       "      <th>LBXSKSI</th>\n",
       "      <th>LBXRBCSI</th>\n",
       "      <th>LBXWBCSI</th>\n",
       "      <th>DIQ010</th>\n",
       "    </tr>\n",
       "  </thead>\n",
       "  <tbody>\n",
       "    <tr>\n",
       "      <th>count</th>\n",
       "      <td>3065.000000</td>\n",
       "      <td>3065.000000</td>\n",
       "      <td>3065.000000</td>\n",
       "      <td>3065.000000</td>\n",
       "      <td>3065.000000</td>\n",
       "      <td>3065.000000</td>\n",
       "      <td>3065.000000</td>\n",
       "      <td>3065.000000</td>\n",
       "    </tr>\n",
       "    <tr>\n",
       "      <th>mean</th>\n",
       "      <td>181.790212</td>\n",
       "      <td>13.511788</td>\n",
       "      <td>71.074976</td>\n",
       "      <td>9.446460</td>\n",
       "      <td>4.066427</td>\n",
       "      <td>4.717974</td>\n",
       "      <td>6.883393</td>\n",
       "      <td>1.932137</td>\n",
       "    </tr>\n",
       "    <tr>\n",
       "      <th>std</th>\n",
       "      <td>40.921963</td>\n",
       "      <td>18.695024</td>\n",
       "      <td>4.590745</td>\n",
       "      <td>0.363837</td>\n",
       "      <td>0.355411</td>\n",
       "      <td>0.494339</td>\n",
       "      <td>2.161686</td>\n",
       "      <td>0.340808</td>\n",
       "    </tr>\n",
       "    <tr>\n",
       "      <th>min</th>\n",
       "      <td>69.000000</td>\n",
       "      <td>0.140000</td>\n",
       "      <td>53.800000</td>\n",
       "      <td>7.600000</td>\n",
       "      <td>2.900000</td>\n",
       "      <td>1.670000</td>\n",
       "      <td>2.500000</td>\n",
       "      <td>1.000000</td>\n",
       "    </tr>\n",
       "    <tr>\n",
       "      <th>25%</th>\n",
       "      <td>153.000000</td>\n",
       "      <td>6.060000</td>\n",
       "      <td>68.000000</td>\n",
       "      <td>9.200000</td>\n",
       "      <td>3.800000</td>\n",
       "      <td>4.390000</td>\n",
       "      <td>5.400000</td>\n",
       "      <td>2.000000</td>\n",
       "    </tr>\n",
       "    <tr>\n",
       "      <th>50%</th>\n",
       "      <td>178.000000</td>\n",
       "      <td>9.400000</td>\n",
       "      <td>71.000000</td>\n",
       "      <td>9.400000</td>\n",
       "      <td>4.000000</td>\n",
       "      <td>4.700000</td>\n",
       "      <td>6.600000</td>\n",
       "      <td>2.000000</td>\n",
       "    </tr>\n",
       "    <tr>\n",
       "      <th>75%</th>\n",
       "      <td>207.000000</td>\n",
       "      <td>15.350000</td>\n",
       "      <td>74.000000</td>\n",
       "      <td>9.700000</td>\n",
       "      <td>4.300000</td>\n",
       "      <td>5.030000</td>\n",
       "      <td>7.900000</td>\n",
       "      <td>2.000000</td>\n",
       "    </tr>\n",
       "    <tr>\n",
       "      <th>max</th>\n",
       "      <td>463.000000</td>\n",
       "      <td>682.480000</td>\n",
       "      <td>90.000000</td>\n",
       "      <td>14.800000</td>\n",
       "      <td>5.800000</td>\n",
       "      <td>8.300000</td>\n",
       "      <td>26.100000</td>\n",
       "      <td>3.000000</td>\n",
       "    </tr>\n",
       "  </tbody>\n",
       "</table>\n",
       "</div>"
      ],
      "text/plain": [
       "             LBXTC        LBXIN     LBDSTPSI       LBXSCA      LBXSKSI  \\\n",
       "count  3065.000000  3065.000000  3065.000000  3065.000000  3065.000000   \n",
       "mean    181.790212    13.511788    71.074976     9.446460     4.066427   \n",
       "std      40.921963    18.695024     4.590745     0.363837     0.355411   \n",
       "min      69.000000     0.140000    53.800000     7.600000     2.900000   \n",
       "25%     153.000000     6.060000    68.000000     9.200000     3.800000   \n",
       "50%     178.000000     9.400000    71.000000     9.400000     4.000000   \n",
       "75%     207.000000    15.350000    74.000000     9.700000     4.300000   \n",
       "max     463.000000   682.480000    90.000000    14.800000     5.800000   \n",
       "\n",
       "          LBXRBCSI     LBXWBCSI       DIQ010  \n",
       "count  3065.000000  3065.000000  3065.000000  \n",
       "mean      4.717974     6.883393     1.932137  \n",
       "std       0.494339     2.161686     0.340808  \n",
       "min       1.670000     2.500000     1.000000  \n",
       "25%       4.390000     5.400000     2.000000  \n",
       "50%       4.700000     6.600000     2.000000  \n",
       "75%       5.030000     7.900000     2.000000  \n",
       "max       8.300000    26.100000     3.000000  "
      ]
     },
     "execution_count": 19,
     "metadata": {},
     "output_type": "execute_result"
    }
   ],
   "source": [
    "ld = dfs[[\"LBXTC\",\"LBXIN\", \"LBDSTPSI\",\"LBXSCA\",\"LBXSKSI\",\"LBXRBCSI\",\"LBXWBCSI\",'DIQ010']]\n",
    "lab_data= ld.dropna()\n",
    "lab_data.describe()"
   ]
  },
  {
   "cell_type": "code",
   "execution_count": null,
   "metadata": {
    "colab": {
     "base_uri": "https://localhost:8080/",
     "height": 329
    },
    "executionInfo": {
     "elapsed": 29348,
     "status": "ok",
     "timestamp": 1604374697824,
     "user": {
      "displayName": "James Formato",
      "photoUrl": "",
      "userId": "11799095701675521078"
     },
     "user_tz": 360
    },
    "id": "v6ZLq5JhRw0y",
    "outputId": "1e8b1515-e3d4-4941-c821-04f2a27c8fbf"
   },
   "outputs": [
    {
     "data": {
      "text/plain": [
       "<matplotlib.axes._subplots.AxesSubplot at 0x7fd2f2f85dc0>"
      ]
     },
     "execution_count": 20,
     "metadata": {},
     "output_type": "execute_result"
    },
    {
     "data": {
      "image/png": "[encoded data removed]",
      "text/plain": [
       "<Figure size 432x288 with 2 Axes>"
      ]
     },
     "metadata": {
      "needs_background": "light"
     },
     "output_type": "display_data"
    }
   ],
   "source": [
    "lab_corr = lab_data.corr()\n",
    "sns.heatmap(lab_corr, annot=True)\n",
    "\n",
    "#Lab variables show low correlation, no multicollinearity "
   ]
  },
  {
   "cell_type": "code",
   "execution_count": null,
   "metadata": {
    "colab": {
     "base_uri": "https://localhost:8080/",
     "height": 297
    },
    "executionInfo": {
     "elapsed": 29341,
     "status": "ok",
     "timestamp": 1604374697826,
     "user": {
      "displayName": "James Formato",
      "photoUrl": "",
      "userId": "11799095701675521078"
     },
     "user_tz": 360
    },
    "id": "6EZcNkblUNWI",
    "outputId": "77423a92-c85f-41e9-ea5b-53bca79d727d"
   },
   "outputs": [],
   "source": [
    "#Prediction: People with high cholesterol are more likely to have diabetes.\n",
    "\n",
    "# Total Cholesteral:\n",
    "# Less than 200 = desireable\n",
    "# 200-239 = borderline high\n",
    "# 240 and higher = high\n",
    "\n",
    "#Roughly 25% are over 200\n",
    "\n",
    "sns.histplot(lab_data, x = \"LBXTC\", bins= 50, shrink=.5)"
   ]
  },
  {
   "cell_type": "markdown",
   "metadata": {
    "id": "YcDBP8QZmgP6"
   },
   "source": [
    "**DECISION TREE CLASSIFIER**"
   ]
  },
  {
   "cell_type": "code",
   "execution_count": 4,
   "metadata": {
    "id": "5ZxUL3yT_b0-"
   },
   "outputs": [],
   "source": [
    "\n",
    "df2 = dfs[['BPXSY1', 'BPXDI1', 'BMXBMI', 'BMXWAIST', 'LBXTC', 'LBDSTPSI', 'LBXSCA',\n",
    "       'LBXSKSI', 'LBXRBCSI', 'LBXWBCSI', 'DR1BWATZ', 'DR1TALCO', 'DR1TCAFF',\n",
    "       'DR1TCALC', 'DR1TCARB', 'DR1TCHOL', 'DR1TIRON', 'DR1TKCAL', 'DR1TMAGN',\n",
    "       'DR1TPOTA', 'DR1TPROT', 'DR1TSODI', 'DR1TSUGR', 'RIAGENDR', 'RIDAGEYR',\n",
    "       'RIDRETH3', 'DMDHHSIZ', 'INDHHIN2', 'INDFMPIR', 'DIQ010']]\n",
    "df2 = df2.dropna()\n",
    "df2 = df2.loc[df2['DIQ010'].isin([1.0, 2.0])]\n",
    "df2['DIQ010'] = df2['DIQ010'].map({1.0:1, 2.0:0})\n",
    "\n",
    "X = df2.drop(['DIQ010'], axis=1)\n",
    "y = df2['DIQ010']\n",
    "X_train, X_test, y_train, y_test = train_test_split(X, y, test_size=0.3, random_state=99, stratify=y)\n",
    "\n",
    "\n",
    "accuracy_train = []\n",
    "accuracy_test = []\n",
    "train_scores = []\n",
    "test_scores = []\n",
    "\n",
    "clf = DecisionTreeClassifier()\n",
    "clf.fit(X_train,y_train)\n",
    "\n",
    "accuracy_train = clf.predict(X_train) \n",
    "b = metrics.accuracy_score(y_true = y_train, y_pred = accuracy_train)\n",
    "train_scores.append(b)\n",
    "    \n",
    "accuracy_test = clf.predict(X_test) \n",
    "w = metrics.accuracy_score(y_true = y_test, y_pred = accuracy_test)\n",
    "test_scores.append(w)\n",
    "\n"
   ]
  },
  {
   "cell_type": "code",
   "execution_count": 5,
   "metadata": {
    "colab": {
     "base_uri": "https://localhost:8080/",
     "height": 298
    },
    "executionInfo": {
     "elapsed": 29481,
     "status": "ok",
     "timestamp": 1604374697980,
     "user": {
      "displayName": "James Formato",
      "photoUrl": "",
      "userId": "11799095701675521078"
     },
     "user_tz": 360
    },
    "id": "q2bCjKqoEHWG",
    "outputId": "9854e613-fdaa-43a6-9653-eadfccf43896"
   },
   "outputs": [
    {
     "data": {
      "text/plain": [
       "<matplotlib.axes._subplots.AxesSubplot at 0x12a3caa90>"
      ]
     },
     "execution_count": 5,
     "metadata": {},
     "output_type": "execute_result"
    },
    {
     "data": {
      "image/png": "[encoded data removed]",
      "text/plain": [
       "<Figure size 432x288 with 2 Axes>"
      ]
     },
     "metadata": {
      "needs_background": "light"
     },
     "output_type": "display_data"
    }
   ],
   "source": [
    "confusion_matrix = pd.crosstab(y_test, accuracy_test, rownames=['Actual'], colnames=['Predicted'])\n",
    "sns.heatmap(confusion_matrix, annot=True)"
   ]
  },
  {
   "cell_type": "code",
   "execution_count": 6,
   "metadata": {
    "colab": {
     "base_uri": "https://localhost:8080/"
    },
    "executionInfo": {
     "elapsed": 29655,
     "status": "ok",
     "timestamp": 1604374698163,
     "user": {
      "displayName": "James Formato",
      "photoUrl": "",
      "userId": "11799095701675521078"
     },
     "user_tz": 360
    },
    "id": "A8D0mXfhFXUQ",
    "outputId": "25647f9a-aa00-4cc6-9ec9-b751990023c4"
   },
   "outputs": [
    {
     "name": "stdout",
     "output_type": "stream",
     "text": [
      "              precision    recall  f1-score   support\n",
      "\n",
      "           0       0.93      0.91      0.92      1321\n",
      "           1       0.31      0.36      0.33       144\n",
      "\n",
      "    accuracy                           0.85      1465\n",
      "   macro avg       0.60      0.62      0.61      1465\n",
      "weighted avg       0.86      0.85      0.86      1465\n",
      "\n"
     ]
    }
   ],
   "source": [
    "print(metrics.classification_report(y_true=y_test, y_pred=accuracy_test))"
   ]
  },
  {
   "cell_type": "code",
   "execution_count": 7,
   "metadata": {},
   "outputs": [],
   "source": [
    "from sklearn.model_selection import GridSearchCV\n",
    "from sklearn.metrics import plot_confusion_matrix\n",
    "from sklearn.tree import DecisionTreeClassifier, plot_tree\n"
   ]
  },
  {
   "cell_type": "code",
   "execution_count": 8,
   "metadata": {},
   "outputs": [
    {
     "data": {
      "text/plain": [
       "{'criterion': 'gini', 'max_depth': 2, 'min_samples_split': 2}"
      ]
     },
     "execution_count": 8,
     "metadata": {},
     "output_type": "execute_result"
    }
   ],
   "source": [
    "params = {\"max_depth\": [2,3,5,6,7,8,9],\"min_samples_split\": [2, 3,5,7], \"criterion\": ['gini','entropy'], }\n",
    "Model1 = GridSearchCV(clf, params, cv = 5)\n",
    "Model1.fit(X_train, y_train.values.ravel())\n",
    "Model1.best_params_\n"
   ]
  },
  {
   "cell_type": "code",
   "execution_count": 9,
   "metadata": {},
   "outputs": [],
   "source": [
    "accuracy_train = []\n",
    "accuracy_test = []\n",
    "train_scores = []\n",
    "test_scores = []\n",
    "\n",
    "GSclf = DecisionTreeClassifier(max_depth= 2, min_samples_split= 2)\n",
    "GSclf.fit(X_train,y_train)\n",
    "\n",
    "accuracy_train = GSclf.predict(X_train) \n",
    "b = metrics.accuracy_score(y_true = y_train, y_pred = accuracy_train)\n",
    "train_scores.append(b)\n",
    "    \n",
    "accuracy_test = GSclf.predict(X_test) \n",
    "w = metrics.accuracy_score(y_true = y_test, y_pred = accuracy_test)\n",
    "test_scores.append(w)\n"
   ]
  },
  {
   "cell_type": "code",
   "execution_count": 13,
   "metadata": {},
   "outputs": [
    {
     "name": "stdout",
     "output_type": "stream",
     "text": [
      "              precision    recall  f1-score   support\n",
      "\n",
      "           0       0.90      1.00      0.95      1321\n",
      "           1       0.00      0.00      0.00       144\n",
      "\n",
      "    accuracy                           0.90      1465\n",
      "   macro avg       0.45      0.50      0.47      1465\n",
      "weighted avg       0.81      0.90      0.86      1465\n",
      "\n"
     ]
    },
    {
     "name": "stderr",
     "output_type": "stream",
     "text": [
      "/Users/brookebilton/opt/anaconda3/lib/python3.8/site-packages/sklearn/metrics/_classification.py:1221: UndefinedMetricWarning: Precision and F-score are ill-defined and being set to 0.0 in labels with no predicted samples. Use `zero_division` parameter to control this behavior.\n",
      "  _warn_prf(average, modifier, msg_start, len(result))\n"
     ]
    }
   ],
   "source": [
    "print(metrics.classification_report(y_true=y_test, y_pred=accuracy_test))\n",
    "\n",
    "#Model is not predicting any true postives after doing a grid search for best parameters. Other models should be explored."
   ]
  },
  {
   "cell_type": "code",
   "execution_count": 14,
   "metadata": {},
   "outputs": [
    {
     "data": {
      "image/png": "[encoded data removed]",
      "text/plain": [
       "<Figure size 432x288 with 2 Axes>"
      ]
     },
     "metadata": {
      "needs_background": "light"
     },
     "output_type": "display_data"
    }
   ],
   "source": [
    "decisiontree_matrix = plot_confusion_matrix(GSclf, X_test, y_test)\n"
   ]
  },
  {
   "cell_type": "code",
   "execution_count": null,
   "metadata": {
    "colab": {
     "base_uri": "https://localhost:8080/",
     "height": 70
    },
    "executionInfo": {
     "elapsed": 29646,
     "status": "ok",
     "timestamp": 1604374698164,
     "user": {
      "displayName": "James Formato",
      "photoUrl": "",
      "userId": "11799095701675521078"
     },
     "user_tz": 360
    },
    "id": "BOXswj3edbx6",
    "outputId": "f567c854-55a7-4615-87e5-8d11019d1dd1"
   },
   "outputs": [
    {
     "data": {
      "text/plain": [
       "' \\nDietary Columns - James\\n\\nDBD100 - How often add ordinary salt to your food at the table?\\nDR1BWATZ - Total bottled water drank yesterday (gm)\\nDR1TALCO - Alcohol (gm)\\nDR1TCAFF - Caffeine (mg)\\nDR1TCALC - Calcium (mg)\\nDR1TCARB - Carbohydrate (gm)\\nDR1TCHOL - Cholesterol (mg)\\nDR1TIRON - Iron (mg)\\nDR1TKCAL - Energy (kcal)\\nDR1TMAGN - Magnesium (mg)\\nDR1TPOTA - Potassium (mg)\\nDR1TPROT - Protein (gm)\\nDR1TSODI - Sodium (mg)\\nDR1TSUGR - Total sugars (gm)\\n'"
      ]
     },
     "execution_count": 25,
     "metadata": {},
     "output_type": "execute_result"
    }
   ],
   "source": [
    "''' \n",
    "Dietary Columns - James\n",
    "\n",
    "DBD100 - How often add ordinary salt to your food at the table?\n",
    "DR1BWATZ - Total bottled water drank yesterday (gm)\n",
    "DR1TALCO - Alcohol (gm)\n",
    "DR1TCAFF - Caffeine (mg)\n",
    "DR1TCALC - Calcium (mg)\n",
    "DR1TCARB - Carbohydrate (gm)\n",
    "DR1TCHOL - Cholesterol (mg)\n",
    "DR1TIRON - Iron (mg)\n",
    "DR1TKCAL - Energy (kcal)\n",
    "DR1TMAGN - Magnesium (mg)\n",
    "DR1TPOTA - Potassium (mg)\n",
    "DR1TPROT - Protein (gm)\n",
    "DR1TSODI - Sodium (mg)\n",
    "DR1TSUGR - Total sugars (gm)\n",
    "'''"
   ]
  },
  {
   "cell_type": "code",
   "execution_count": null,
   "metadata": {
    "colab": {
     "base_uri": "https://localhost:8080/",
     "height": 334
    },
    "executionInfo": {
     "elapsed": 30015,
     "status": "ok",
     "timestamp": 1604374698542,
     "user": {
      "displayName": "James Formato",
      "photoUrl": "",
      "userId": "11799095701675521078"
     },
     "user_tz": 360
    },
    "id": "lAt-_k0h5Lzl",
    "outputId": "0fd362fd-7bac-4a98-a612-39cbdefae571"
   },
   "outputs": [
    {
     "data": {
      "text/plain": [
       "<matplotlib.axes._subplots.AxesSubplot at 0x7fd2f2445310>"
      ]
     },
     "execution_count": 26,
     "metadata": {},
     "output_type": "execute_result"
    },
    {
     "data": {
      "image/png": "[encoded data removed]",
      "text/plain": [
       "<Figure size 432x288 with 2 Axes>"
      ]
     },
     "metadata": {
      "needs_background": "light"
     },
     "output_type": "display_data"
    }
   ],
   "source": [
    "dfDiet = dfs[['DBD100', 'DR1BWATZ', 'DR1TALCO', 'DR1TCAFF', 'DR1TCALC', 'DR1TCARB', 'DR1TCHOL', 'DR1TIRON', 'DR1TKCAL', 'DR1TMAGN',\n",
    "              'DR1TPOTA', 'DR1TPROT', 'DR1TSODI', 'DR1TSUGR']]\n",
    "sns.heatmap(dfDiet.corr())"
   ]
  },
  {
   "cell_type": "code",
   "execution_count": null,
   "metadata": {
    "colab": {
     "base_uri": "https://localhost:8080/",
     "height": 612
    },
    "executionInfo": {
     "elapsed": 30188,
     "status": "ok",
     "timestamp": 1604374698725,
     "user": {
      "displayName": "James Formato",
      "photoUrl": "",
      "userId": "11799095701675521078"
     },
     "user_tz": 360
    },
    "id": "bSuDwPlx8SXt",
    "outputId": "755d8530-dc88-46c8-a55b-e206f18dbed3"
   },
   "outputs": [
    {
     "name": "stdout",
     "output_type": "stream",
     "text": [
      "Variance Explained per Component\n",
      "\n",
      "Component\tNon-Explained Variance\n",
      "PC1:\t\t 0.4467\n",
      "PC2:\t\t 0.091\n",
      "PC3:\t\t 0.0848\n",
      "PC4:\t\t 0.0714\n",
      "PC5:\t\t 0.0695\n",
      "PC6:\t\t 0.0627\n",
      "PC7:\t\t 0.0529\n",
      "PC8:\t\t 0.0357\n",
      "PC9:\t\t 0.0319\n",
      "PC10:\t\t 0.0254\n",
      "PC11:\t\t 0.0107\n",
      "PC12:\t\t 0.0099\n",
      "PC13:\t\t 0.0053\n",
      "PC14:\t\t 0.0021\n"
     ]
    },
    {
     "data": {
      "text/plain": [
       "Text(0.5, 1.0, 'Scree Plot of Dietary Columns')"
      ]
     },
     "execution_count": 27,
     "metadata": {},
     "output_type": "execute_result"
    },
    {
     "data": {
      "image/png": "[encoded data removed]",
      "text/plain": [
       "<Figure size 432x288 with 1 Axes>"
      ]
     },
     "metadata": {
      "needs_background": "light"
     },
     "output_type": "display_data"
    }
   ],
   "source": [
    "X = dfDiet.dropna()\n",
    "scaler = StandardScaler()\n",
    "XNorm = scaler.fit(X).transform(X)\n",
    "\n",
    "pca = PCA()\n",
    "pca.fit(XNorm)\n",
    "print(\"Variance Explained per Component\\n\")\n",
    "print(\"Component\\tNon-Explained Variance\")\n",
    "for i, val in enumerate(pca.explained_variance_ratio_.round(4)):\n",
    "    print(\"PC{}:\\t\\t {}\".format(i+1, val))\n",
    "\n",
    "plt.plot(pca.explained_variance_ratio_)\n",
    "plt.ylabel(\"Variance Explained\")\n",
    "plt.xlabel(\"Principal Components\")\n",
    "plt.xticks(range(14))\n",
    "plt.title(\"Scree Plot of Dietary Columns\")"
   ]
  },
  {
   "cell_type": "code",
   "execution_count": null,
   "metadata": {
    "colab": {
     "base_uri": "https://localhost:8080/",
     "height": 901
    },
    "executionInfo": {
     "elapsed": 30583,
     "status": "ok",
     "timestamp": 1604374699130,
     "user": {
      "displayName": "James Formato",
      "photoUrl": "",
      "userId": "11799095701675521078"
     },
     "user_tz": 360
    },
    "id": "GSD0iMKXAqDq",
    "outputId": "40ae24ba-63a8-4e4a-ce1c-6f5ede80d783"
   },
   "outputs": [
    {
     "name": "stdout",
     "output_type": "stream",
     "text": [
      "Variance Explained per Component\n",
      "\n",
      "Component\tNon-Explained Variance\n",
      "PC1:\t\t 0.2125\n",
      "PC2:\t\t 0.098\n",
      "PC3:\t\t 0.0664\n",
      "PC4:\t\t 0.0579\n",
      "PC5:\t\t 0.0486\n",
      "PC6:\t\t 0.0439\n",
      "PC7:\t\t 0.0421\n",
      "PC8:\t\t 0.0375\n",
      "PC9:\t\t 0.0352\n",
      "PC10:\t\t 0.034\n",
      "PC11:\t\t 0.0316\n",
      "PC12:\t\t 0.0309\n",
      "PC13:\t\t 0.0297\n",
      "PC14:\t\t 0.0278\n",
      "PC15:\t\t 0.0262\n",
      "PC16:\t\t 0.0239\n",
      "PC17:\t\t 0.0228\n",
      "PC18:\t\t 0.0214\n",
      "PC19:\t\t 0.018\n",
      "PC20:\t\t 0.0156\n",
      "PC21:\t\t 0.0145\n",
      "PC22:\t\t 0.0138\n",
      "PC23:\t\t 0.0121\n",
      "PC24:\t\t 0.0108\n",
      "PC25:\t\t 0.0096\n",
      "PC26:\t\t 0.005\n",
      "PC27:\t\t 0.0045\n",
      "PC28:\t\t 0.0028\n",
      "PC29:\t\t 0.0018\n",
      "PC30:\t\t 0.001\n"
     ]
    },
    {
     "data": {
      "text/plain": [
       "Text(0.5, 1.0, 'Scree Plot of All Possible Features')"
      ]
     },
     "execution_count": 28,
     "metadata": {},
     "output_type": "execute_result"
    },
    {
     "data": {
      "image/png": "[encoded data removed]",
      "text/plain": [
       "<Figure size 432x288 with 1 Axes>"
      ]
     },
     "metadata": {
      "needs_background": "light"
     },
     "output_type": "display_data"
    }
   ],
   "source": [
    "df2 = dfs[['BPXSY1', 'BPXDI1', 'BMXBMI', 'BMXWAIST', 'LBXTC', 'LBDSTPSI', 'LBXSCA',\n",
    "       'LBXSKSI', 'LBXRBCSI', 'LBXWBCSI', 'DR1BWATZ', 'DR1TALCO', 'DR1TCAFF',\n",
    "       'DR1TCALC', 'DR1TCARB', 'DR1TCHOL', 'DR1TIRON', 'DR1TKCAL', 'DR1TMAGN',\n",
    "       'DR1TPOTA', 'DR1TPROT', 'DR1TSODI', 'DR1TSUGR', 'RIAGENDR', 'RIDAGEYR',\n",
    "       'RIDRETH3', 'DMDHHSIZ', 'INDHHIN2', 'INDFMPIR', 'DIQ010']]\n",
    "\n",
    "X = df2.dropna()\n",
    "scaler = StandardScaler()\n",
    "XNorm = scaler.fit(X).transform(X)\n",
    "\n",
    "pca = PCA()\n",
    "pca.fit(XNorm)\n",
    "print(\"Variance Explained per Component\\n\")\n",
    "print(\"Component\\tNon-Explained Variance\")\n",
    "for i, val in enumerate(pca.explained_variance_ratio_.round(4)):\n",
    "    print(\"PC{}:\\t\\t {}\".format(i+1, val))\n",
    "\n",
    "plt.plot(pca.explained_variance_ratio_)\n",
    "plt.ylabel(\"Variance Explained\")\n",
    "plt.xlabel(\"Principal Components\")\n",
    "plt.xticks(range(30), rotation=55)\n",
    "plt.title(\"Scree Plot of All Possible Features\")"
   ]
  },
  {
   "cell_type": "code",
   "execution_count": null,
   "metadata": {
    "colab": {
     "base_uri": "https://localhost:8080/",
     "height": 70
    },
    "executionInfo": {
     "elapsed": 30573,
     "status": "ok",
     "timestamp": 1604374699131,
     "user": {
      "displayName": "James Formato",
      "photoUrl": "",
      "userId": "11799095701675521078"
     },
     "user_tz": 360
    },
    "id": "KgsC7-iX4EC0",
    "outputId": "81f548ef-d35d-41af-a9dc-082584bbb213"
   },
   "outputs": [
    {
     "data": {
      "text/plain": [
       "'\\nDemographics - John\\nRIAGENDR - Gender\\nRIDAGEYR - Age in years at screening\\nRIDRETH3 - Race/Hispanic origin w/ NH Asian\\nDMDEDUC3 - Education level - Children/Youth 6-19\\nDMDEDUC2 - Education level - Adults 20+\\nDMDMARTL - Marital status\\nDMDHHSIZ - Total number of people in the Household\\nINDHHIN2 - Annual household income\\nINDFMPIR - Ratio of family income to poverty\\n'"
      ]
     },
     "execution_count": 29,
     "metadata": {},
     "output_type": "execute_result"
    }
   ],
   "source": [
    "'''\n",
    "Demographics - John\n",
    "RIAGENDR - Gender\n",
    "RIDAGEYR - Age in years at screening\n",
    "RIDRETH3 - Race/Hispanic origin w/ NH Asian\n",
    "DMDEDUC3 - Education level - Children/Youth 6-19\n",
    "DMDEDUC2 - Education level - Adults 20+\n",
    "DMDMARTL - Marital status\n",
    "DMDHHSIZ - Total number of people in the Household\n",
    "INDHHIN2 - Annual household income\n",
    "INDFMPIR - Ratio of family income to poverty\n",
    "'''"
   ]
  },
  {
   "cell_type": "code",
   "execution_count": null,
   "metadata": {
    "colab": {
     "base_uri": "https://localhost:8080/",
     "height": 313
    },
    "executionInfo": {
     "elapsed": 30861,
     "status": "ok",
     "timestamp": 1604374699429,
     "user": {
      "displayName": "James Formato",
      "photoUrl": "",
      "userId": "11799095701675521078"
     },
     "user_tz": 360
    },
    "id": "RWlca6nqSKkp",
    "outputId": "9a31e498-8647-4853-c575-0b418fcdb8da"
   },
   "outputs": [
    {
     "data": {
      "text/plain": [
       "Text(0.5, 1.0, 'Histogram of Family Income to Poverty Income Ratio')"
      ]
     },
     "execution_count": 30,
     "metadata": {},
     "output_type": "execute_result"
    },
    {
     "data": {
      "image/png": "[encoded data removed]",
      "text/plain": [
       "<Figure size 432x288 with 1 Axes>"
      ]
     },
     "metadata": {
      "needs_background": "light"
     },
     "output_type": "display_data"
    }
   ],
   "source": [
    "fig, ax = plt.subplots()\n",
    "ax.hist(dfs[dfs['INDFMPIR'].notna()]['INDFMPIR'], bins=np.arange(0, 5.1, 0.1), edgecolor = 'black')\n",
    "ax.set_xticks(np.arange(0, 5.25, 0.5))\n",
    "ax.set_xlabel('Ratio of family Income to Poverty')\n",
    "ax.set_ylabel('Count')\n",
    "ax.set_title('Histogram of Family Income to Poverty Income Ratio')\n",
    "# All values above 5 coded as 5"
   ]
  },
  {
   "cell_type": "code",
   "execution_count": null,
   "metadata": {
    "colab": {
     "base_uri": "https://localhost:8080/",
     "height": 313
    },
    "executionInfo": {
     "elapsed": 31545,
     "status": "ok",
     "timestamp": 1604374700122,
     "user": {
      "displayName": "James Formato",
      "photoUrl": "",
      "userId": "11799095701675521078"
     },
     "user_tz": 360
    },
    "id": "h4r3dIRpBcO8",
    "outputId": "b865829f-c7d4-49ce-b607-f657965ffc35"
   },
   "outputs": [
    {
     "data": {
      "text/plain": [
       "Text(0.5, 1.0, 'Distribution of Max. Education Level')"
      ]
     },
     "execution_count": 31,
     "metadata": {},
     "output_type": "execute_result"
    },
    {
     "data": {
      "image/png": "[encoded data removed]",
      "text/plain": [
       "<Figure size 432x288 with 1 Axes>"
      ]
     },
     "metadata": {
      "needs_background": "light"
     },
     "output_type": "display_data"
    }
   ],
   "source": [
    "fig, ax = plt.subplots()\n",
    "ax.barh(y=['Some College', 'College Grad', 'HS Grad/GED', '9-12th - No Dip', '<9th'],\n",
    "       width=[1722, 1400, 1257, 765, 439])\n",
    "ax.set_xlabel('Count')\n",
    "ax.set_ylabel('Education Level')\n",
    "ax.set_title('Distribution of Max. Education Level')"
   ]
  },
  {
   "cell_type": "code",
   "execution_count": null,
   "metadata": {
    "colab": {
     "base_uri": "https://localhost:8080/",
     "height": 313
    },
    "executionInfo": {
     "elapsed": 31700,
     "status": "ok",
     "timestamp": 1604374700287,
     "user": {
      "displayName": "James Formato",
      "photoUrl": "",
      "userId": "11799095701675521078"
     },
     "user_tz": 360
    },
    "id": "A5aAwnjCIcjE",
    "outputId": "9a2077d8-f4b3-4bcb-a8dd-8fe5167b6e87"
   },
   "outputs": [
    {
     "data": {
      "text/plain": [
       "Text(0, 0.5, 'Count')"
      ]
     },
     "execution_count": 32,
     "metadata": {},
     "output_type": "execute_result"
    },
    {
     "data": {
      "image/png": "[encoded data removed]",
      "text/plain": [
       "<Figure size 432x288 with 1 Axes>"
      ]
     },
     "metadata": {
      "needs_background": "light"
     },
     "output_type": "display_data"
    }
   ],
   "source": [
    "fig, ax = plt.subplots()\n",
    "ax.bar(x=dfs['DMDHHSIZ'].value_counts().index, height=dfs['DMDHHSIZ'].value_counts())\n",
    "ax.set_title('Bar Chart of People in Household')\n",
    "ax.set_xlabel('Number of People in Household')\n",
    "ax.set_ylabel('Count')\n",
    "# 7 or more people coded as 7"
   ]
  },
  {
   "cell_type": "code",
   "execution_count": null,
   "metadata": {
    "colab": {
     "base_uri": "https://localhost:8080/",
     "height": 313
    },
    "executionInfo": {
     "elapsed": 31692,
     "status": "ok",
     "timestamp": 1604374700288,
     "user": {
      "displayName": "James Formato",
      "photoUrl": "",
      "userId": "11799095701675521078"
     },
     "user_tz": 360
    },
    "id": "8wVr4g_K-HMl",
    "outputId": "670f3ea6-fedf-4b30-c986-7611ea89abc1"
   },
   "outputs": [
    {
     "data": {
      "text/plain": [
       "Text(0, 0.5, 'Count')"
      ]
     },
     "execution_count": 33,
     "metadata": {},
     "output_type": "execute_result"
    },
    {
     "data": {
      "image/png": "[encoded data removed]",
      "text/plain": [
       "<Figure size 432x288 with 1 Axes>"
      ]
     },
     "metadata": {
      "needs_background": "light"
     },
     "output_type": "display_data"
    }
   ],
   "source": [
    "fig, ax = plt.subplots()\n",
    "ax.bar(x=['White', 'Black', 'Mexican', 'Asian', 'Other Hispanic', 'Other'], height=dfs['RIDRETH3'].value_counts())\n",
    "ax.set_title('Bar Chart of Race/Ethnicity')\n",
    "ax.set_xlabel('Race/Ethnicity')\n",
    "ax.set_ylabel('Count')"
   ]
  },
  {
   "cell_type": "code",
   "execution_count": null,
   "metadata": {
    "colab": {
     "base_uri": "https://localhost:8080/",
     "height": 313
    },
    "executionInfo": {
     "elapsed": 32034,
     "status": "ok",
     "timestamp": 1604374700642,
     "user": {
      "displayName": "James Formato",
      "photoUrl": "",
      "userId": "11799095701675521078"
     },
     "user_tz": 360
    },
    "id": "SaN-oNmgwap1",
    "outputId": "7936a1b0-2454-40f3-963a-86480fd741b6"
   },
   "outputs": [
    {
     "data": {
      "text/plain": [
       "Text(0, 0.5, 'Count')"
      ]
     },
     "execution_count": 34,
     "metadata": {},
     "output_type": "execute_result"
    },
    {
     "data": {
      "image/png": "[encoded data removed]",
      "text/plain": [
       "<Figure size 432x288 with 1 Axes>"
      ]
     },
     "metadata": {
      "needs_background": "light"
     },
     "output_type": "display_data"
    }
   ],
   "source": [
    "fig, ax = plt.subplots()\n",
    "ax.hist(dfs['RIDAGEYR'], bins=range(0, 81, 1), edgecolor = 'black')\n",
    "ax.set_title('Age Histogram')\n",
    "ax.set_xlabel('Age')\n",
    "ax.set_ylabel('Count')\n",
    "# Everyone => 80 is marked as 80"
   ]
  },
  {
   "cell_type": "code",
   "execution_count": null,
   "metadata": {},
   "outputs": [],
   "source": [
    "demo2 = dfs[['DIQ010', 'RIAGENDR', 'RIDAGEYR', 'RIDRETH3', 'DMDEDUC3', 'DMDEDUC2', 'DMDMARTL',\n",
    "              'DMDHHSIZ', 'INDHHIN2', 'INDFMPIR']]\n",
    "fig, ax = plt.subplots(figsize=(8, 5))\n",
    "sns.heatmap(demo2.corr(), annot=True, cmap='coolwarm', center=0)\n",
    "plt.title('Demographic Correlation Matrix')"
   ]
  },
  {
   "cell_type": "code",
   "execution_count": null,
   "metadata": {
    "id": "qY8ub-LDK9Jx"
   },
   "outputs": [],
   "source": [
    "df2 = dfs[['BPXSY1', 'BPXDI1', 'BMXBMI', 'BMXWAIST', 'LBXTC', 'LBDSTPSI', 'LBXSCA',\n",
    "       'LBXSKSI', 'LBXRBCSI', 'LBXWBCSI', 'DR1BWATZ', 'DR1TALCO', 'DR1TCAFF',\n",
    "       'DR1TCALC', 'DR1TCARB', 'DR1TCHOL', 'DR1TIRON', 'DR1TKCAL', 'DR1TMAGN',\n",
    "       'DR1TPOTA', 'DR1TPROT', 'DR1TSODI', 'DR1TSUGR', 'RIAGENDR', 'RIDAGEYR',\n",
    "       'RIDRETH3', 'DMDHHSIZ', 'INDHHIN2', 'INDFMPIR', 'DIQ010']]\n",
    "df2 = df2.dropna()\n",
    "df2 = df2.loc[df2['DIQ010'].isin([1.0, 2.0])]\n",
    "df2['DIQ010'] = df2['DIQ010'].map({1.0:1, 2.0:0})"
   ]
  },
  {
   "cell_type": "code",
   "execution_count": 36,
   "metadata": {
    "colab": {
     "base_uri": "https://localhost:8080/"
    },
    "executionInfo": {
     "elapsed": 32022,
     "status": "ok",
     "timestamp": 1604374700643,
     "user": {
      "displayName": "James Formato",
      "photoUrl": "",
      "userId": "11799095701675521078"
     },
     "user_tz": 360
    },
    "id": "gj7GkZgcFwor",
    "outputId": "fb4333f6-ac1e-4b17-fbab-ac1c496947ff"
   },
   "outputs": [
    {
     "data": {
      "text/plain": [
       "['DIQ010',\n",
       " 'BPXSY1',\n",
       " 'BMXBMI',\n",
       " 'BMXWAIST',\n",
       " 'LBXSKSI',\n",
       " 'LBXWBCSI',\n",
       " 'DR1TCARB',\n",
       " 'DR1TKCAL',\n",
       " 'DR1TSUGR',\n",
       " 'RIDAGEYR',\n",
       " 'DMDHHSIZ']"
      ]
     },
     "execution_count": 36,
     "metadata": {},
     "output_type": "execute_result"
    }
   ],
   "source": [
    "# Finds correlations with DIQ010 that are greater than threshhold value\n",
    "corr = df2.corr()\n",
    "high = ['DIQ010']\n",
    "thresh = 0.075 # correlation threshhold\n",
    "for i in range(corr.shape[0]):\n",
    "    if (corr['DIQ010'][i] > thresh and corr['DIQ010'][i] != 1) or\\\n",
    "        (corr['DIQ010'][i] < -thresh and corr['DIQ010'][i] != 1):\n",
    "        high.append(corr.index[i])\n",
    "high"
   ]
  },
  {
   "cell_type": "code",
   "execution_count": 37,
   "metadata": {
    "id": "iYmqicQyNaSz"
   },
   "outputs": [],
   "source": [
    "from sklearn.ensemble import RandomForestClassifier, AdaBoostClassifier\n",
    "from sklearn.model_selection import GridSearchCV"
   ]
  },
  {
   "cell_type": "code",
   "execution_count": null,
   "metadata": {
    "id": "gsqjr8pRNddk"
   },
   "outputs": [],
   "source": [
    "# Using all columns in df2\n",
    "X = df2.drop(['DIQ010'], axis=1)\n",
    "y = df2['DIQ010']\n",
    "X_train, X_test, y_train, y_test = train_test_split(X, y, test_size=0.3, random_state=99, stratify=y)"
   ]
  },
  {
   "cell_type": "markdown",
   "metadata": {
    "id": "XHHbuLy7aaJZ"
   },
   "source": [
    "#### Grid Search for Random Forest"
   ]
  },
  {
   "cell_type": "code",
   "execution_count": null,
   "metadata": {
    "id": "fwic3weyNuFF"
   },
   "outputs": [],
   "source": [
    "params = {'n_estimators':[100, 500, 1000], 'max_depth':[2, 5, 10, None], 'min_samples_split':[2, 5, 10, 20]}\n",
    "rfc = RandomForestClassifier(n_jobs=4)\n",
    "clf = GridSearchCV(rfc, params).fit(X_train, y_train)"
   ]
  },
  {
   "cell_type": "code",
   "execution_count": null,
   "metadata": {
    "colab": {
     "base_uri": "https://localhost:8080/"
    },
    "executionInfo": {
     "elapsed": 727733,
     "status": "ok",
     "timestamp": 1604375396369,
     "user": {
      "displayName": "James Formato",
      "photoUrl": "",
      "userId": "11799095701675521078"
     },
     "user_tz": 360
    },
    "id": "kDBapDBcN2IK",
    "outputId": "cf1fa988-3a95-4e53-e26d-762da13a4b26"
   },
   "outputs": [
    {
     "data": {
      "text/plain": [
       "{'max_depth': None, 'min_samples_split': 20, 'n_estimators': 100}"
      ]
     },
     "execution_count": 40,
     "metadata": {},
     "output_type": "execute_result"
    }
   ],
   "source": [
    "clf.best_params_ # max_depth = None (default value) means trees are built until each leaf is pure or min_sample_split is reached"
   ]
  },
  {
   "cell_type": "code",
   "execution_count": null,
   "metadata": {
    "colab": {
     "base_uri": "https://localhost:8080/"
    },
    "executionInfo": {
     "elapsed": 727726,
     "status": "ok",
     "timestamp": 1604375396371,
     "user": {
      "displayName": "James Formato",
      "photoUrl": "",
      "userId": "11799095701675521078"
     },
     "user_tz": 360
    },
    "id": "9daxssC3Pdqr",
    "outputId": "bde4ff08-916a-4517-f238-de7a081d7da3"
   },
   "outputs": [
    {
     "data": {
      "text/plain": [
       "(0.903754266211604, 0.9426565242832066)"
      ]
     },
     "execution_count": 41,
     "metadata": {},
     "output_type": "execute_result"
    }
   ],
   "source": [
    "testPred = clf.predict(X_test)\n",
    "trainPred = clf.predict(X_train)\n",
    "metrics.accuracy_score(y_test, testPred), metrics.accuracy_score(y_train, trainPred) # test accuracy, train accuracy"
   ]
  },
  {
   "cell_type": "code",
   "execution_count": null,
   "metadata": {
    "colab": {
     "base_uri": "https://localhost:8080/"
    },
    "executionInfo": {
     "elapsed": 727719,
     "status": "ok",
     "timestamp": 1604375396373,
     "user": {
      "displayName": "James Formato",
      "photoUrl": "",
      "userId": "11799095701675521078"
     },
     "user_tz": 360
    },
    "id": "LAVdJcNEPnn_",
    "outputId": "a89f7334-89d8-48a0-fe75-26cccb825018"
   },
   "outputs": [
    {
     "data": {
      "text/plain": [
       "0.1714021687080839"
      ]
     },
     "execution_count": 42,
     "metadata": {},
     "output_type": "execute_result"
    }
   ],
   "source": [
    "metrics.matthews_corrcoef(y_test, testPred) # range between -1 and 1 for binary classifications,\n",
    " # 1 = perfect prediction, -1 = perfect anti-prediction, 0 = model is just as good as random guess while accounting for class imbablance\n",
    " # This model is only slightly better than random guessing even though it has an accuracy score of 90%"
   ]
  },
  {
   "cell_type": "code",
   "execution_count": null,
   "metadata": {
    "colab": {
     "base_uri": "https://localhost:8080/"
    },
    "executionInfo": {
     "elapsed": 727710,
     "status": "ok",
     "timestamp": 1604375396374,
     "user": {
      "displayName": "James Formato",
      "photoUrl": "",
      "userId": "11799095701675521078"
     },
     "user_tz": 360
    },
    "id": "I8JSL8GcQ7Zj",
    "outputId": "19d98b58-eb76-4acd-97a0-58a3da4fc1d1"
   },
   "outputs": [
    {
     "data": {
      "text/plain": [
       "(1315, 6, 135, 9)"
      ]
     },
     "execution_count": 43,
     "metadata": {},
     "output_type": "execute_result"
    }
   ],
   "source": [
    "tn, fp, fn, tp = metrics.confusion_matrix(y_test, testPred).ravel()\n",
    "tn, fp, fn, tp # Very poor at classifying positive cases with 132 false negatives and 10 true positives"
   ]
  },
  {
   "cell_type": "markdown",
   "metadata": {},
   "source": [
    "#### Testing different numbers of estimators for RF using Recall"
   ]
  },
  {
   "cell_type": "code",
   "execution_count": null,
   "metadata": {},
   "outputs": [],
   "source": [
    "recallTrain = []\n",
    "recallTest = []\n",
    "trees = range(100, 2100, 100)\n",
    "for i in trees:\n",
    "    clf2 = RandomForestClassifier(n_estimators=i, n_jobs=8).fit(X_train, y_train)\n",
    "    recallTrain.append(metrics.recall_score(y_train, clf2.predict(X_train)))\n",
    "    recallTest.append(metrics.recall_score(y_test, clf2.predict(X_test)))"
   ]
  },
  {
   "cell_type": "code",
   "execution_count": null,
   "metadata": {},
   "outputs": [],
   "source": [
    "plt.plot(trees, recallTrain, label='Train')\n",
    "plt.plot(trees, recallTest, label='Test')\n",
    "plt.legend()\n",
    "plt.title('Estimators')"
   ]
  },
  {
   "cell_type": "markdown",
   "metadata": {},
   "source": [
    "#### Testing different max. depth for RF using Recall"
   ]
  },
  {
   "cell_type": "code",
   "execution_count": null,
   "metadata": {},
   "outputs": [],
   "source": [
    "recallTrain2 = []\n",
    "recallTest2 = []\n",
    "depth = range(2, 25)\n",
    "for i in depth:\n",
    "    clf2 = RandomForestClassifier(max_depth=i, n_jobs=8).fit(X_train, y_train)\n",
    "    recallTrain2.append(metrics.recall_score(y_train, clf2.predict(X_train)))\n",
    "    recallTest2.append(metrics.recall_score(y_test, clf2.predict(X_test)))"
   ]
  },
  {
   "cell_type": "code",
   "execution_count": null,
   "metadata": {},
   "outputs": [],
   "source": [
    "plt.plot(depth, recallTrain2, label='Train')\n",
    "plt.plot(depth, recallTest2, label='Test')\n",
    "plt.title('Max Depth')\n",
    "plt.xticks(depth)\n",
    "plt.legend()"
   ]
  },
  {
   "cell_type": "markdown",
   "metadata": {},
   "source": [
    "#### Testing different min. sample split for RF using recall"
   ]
  },
  {
   "cell_type": "code",
   "execution_count": null,
   "metadata": {},
   "outputs": [],
   "source": [
    "recallTrain3 = []\n",
    "recallTest3 = []\n",
    "split = range(2, 42, 2)\n",
    "for i in split:\n",
    "    clf2 = RandomForestClassifier(min_samples_split=i, n_jobs=8).fit(X_train, y_train)\n",
    "    recallTrain3.append(metrics.recall_score(y_train, clf2.predict(X_train)))\n",
    "    recallTest3.append(metrics.recall_score(y_test, clf2.predict(X_test)))"
   ]
  },
  {
   "cell_type": "code",
   "execution_count": null,
   "metadata": {},
   "outputs": [],
   "source": [
    "plt.plot(split, recallTrain3, label='Train')\n",
    "plt.plot(split, recallTest3, label='Test')\n",
    "plt.title('Min Samples Split')\n",
    "plt.xticks(split)\n",
    "plt.legend()"
   ]
  },
  {
   "cell_type": "markdown",
   "metadata": {},
   "source": [
    "#### Using columns that have 'high' correlation to DIQ010"
   ]
  },
  {
   "cell_type": "code",
   "execution_count": null,
   "metadata": {
    "colab": {
     "base_uri": "https://localhost:8080/"
    },
    "executionInfo": {
     "elapsed": 32022,
     "status": "ok",
     "timestamp": 1604374700643,
     "user": {
      "displayName": "James Formato",
      "photoUrl": "",
      "userId": "11799095701675521078"
     },
     "user_tz": 360
    },
    "id": "gj7GkZgcFwor",
    "outputId": "fb4333f6-ac1e-4b17-fbab-ac1c496947ff"
   },
   "outputs": [],
   "source": [
    "# Finds correlations with DIQ010 that are greater than threshhold value\n",
    "corr = df2.corr()\n",
    "high = ['DIQ010']\n",
    "thresh = 0.075 # correlation threshhold\n",
    "for i in range(corr.shape[0]):\n",
    "    if (corr['DIQ010'][i] > thresh and corr['DIQ010'][i] != 1) or\\\n",
    "        (corr['DIQ010'][i] < -thresh and corr['DIQ010'][i] != 1):\n",
    "        high.append(corr.index[i])\n",
    "high"
   ]
  },
  {
   "cell_type": "code",
   "execution_count": null,
   "metadata": {
    "id": "dUVOIgTaSSQ6"
   },
   "outputs": [],
   "source": [
    "smalldf = df2[high]\n",
    "X = smalldf.drop(['DIQ010'], axis=1)\n",
    "y = smalldf['DIQ010']\n",
    "X_train, X_test, y_train, y_test = train_test_split(X, y, test_size=0.2, random_state=99, stratify=y)"
   ]
  },
  {
   "cell_type": "markdown",
   "metadata": {
    "id": "Yu1jRIX2Z0Zc"
   },
   "source": [
    "##### RF w/ 'high' correlation vars"
   ]
  },
  {
   "cell_type": "code",
   "execution_count": null,
   "metadata": {
    "id": "rtozv7AISlyt"
   },
   "outputs": [],
   "source": [
    "smlClf = RandomForestClassifier(min_samples_split=5, n_estimators=100).fit(X_train, y_train) # usings params from above"
   ]
  },
  {
   "cell_type": "code",
   "execution_count": null,
   "metadata": {
    "colab": {
     "base_uri": "https://localhost:8080/"
    },
    "executionInfo": {
     "elapsed": 728159,
     "status": "ok",
     "timestamp": 1604375396836,
     "user": {
      "displayName": "James Formato",
      "photoUrl": "",
      "userId": "11799095701675521078"
     },
     "user_tz": 360
    },
    "id": "CuyS2FenS-2L",
    "outputId": "f59b5536-17d9-40ed-f634-83dbeb6af7eb"
   },
   "outputs": [
    {
     "data": {
      "text/plain": [
       "(0.9027635619242579, 0.9941116231438812)"
      ]
     },
     "execution_count": 46,
     "metadata": {},
     "output_type": "execute_result"
    }
   ],
   "source": [
    "testPred = smlClf.predict(X_test)\n",
    "trainPred = smlClf.predict(X_train)\n",
    "metrics.accuracy_score(y_test, testPred), metrics.accuracy_score(y_train, trainPred) # test accuracy, train accuracy"
   ]
  },
  {
   "cell_type": "code",
   "execution_count": null,
   "metadata": {
    "colab": {
     "base_uri": "https://localhost:8080/"
    },
    "executionInfo": {
     "elapsed": 728151,
     "status": "ok",
     "timestamp": 1604375396840,
     "user": {
      "displayName": "James Formato",
      "photoUrl": "",
      "userId": "11799095701675521078"
     },
     "user_tz": 360
    },
    "id": "dARrq6XeTKs6",
    "outputId": "dbace411-2230-4068-e33b-c8485bb53b2a"
   },
   "outputs": [
    {
     "data": {
      "text/plain": [
       "0.2541244667371733"
      ]
     },
     "execution_count": 47,
     "metadata": {},
     "output_type": "execute_result"
    }
   ],
   "source": [
    "metrics.matthews_corrcoef(y_test, testPred) # Better than previous model but still only moderately better than random guess"
   ]
  },
  {
   "cell_type": "code",
   "execution_count": null,
   "metadata": {
    "colab": {
     "base_uri": "https://localhost:8080/"
    },
    "executionInfo": {
     "elapsed": 728140,
     "status": "ok",
     "timestamp": 1604375396842,
     "user": {
      "displayName": "James Formato",
      "photoUrl": "",
      "userId": "11799095701675521078"
     },
     "user_tz": 360
    },
    "id": "IzBvlcxvTNpJ",
    "outputId": "5d636a9a-393d-4ac8-97da-c29e87a03f53"
   },
   "outputs": [
    {
     "data": {
      "text/plain": [
       "(866, 15, 80, 16)"
      ]
     },
     "execution_count": 48,
     "metadata": {},
     "output_type": "execute_result"
    }
   ],
   "source": [
    "tn, fp, fn, tp = metrics.confusion_matrix(y_test, testPred).ravel()\n",
    "tn, fp, fn, tp # Still very poor at classifying positives cases"
   ]
  },
  {
   "cell_type": "markdown",
   "metadata": {
    "id": "1AajTy3JaBHC"
   },
   "source": [
    "**AdaBoost w/ subset of variables**"
   ]
  },
  {
   "cell_type": "code",
   "execution_count": null,
   "metadata": {
    "id": "C4A17z60Udh1"
   },
   "outputs": [],
   "source": [
    "params = {'n_estimators':[50, 100, 500, 1000], 'learning_rate':[0.001, 0.005, 0.01, 0.05, 0.1]}\n",
    "ada = AdaBoostClassifier()\n",
    "adaClf = GridSearchCV(ada, params).fit(X_train, y_train)"
   ]
  },
  {
   "cell_type": "code",
   "execution_count": null,
   "metadata": {
    "colab": {
     "base_uri": "https://localhost:8080/"
    },
    "executionInfo": {
     "elapsed": 932077,
     "status": "ok",
     "timestamp": 1604375600794,
     "user": {
      "displayName": "James Formato",
      "photoUrl": "",
      "userId": "11799095701675521078"
     },
     "user_tz": 360
    },
    "id": "29yxSSE8UoDl",
    "outputId": "5724da6d-3f61-4c6a-bdd5-57fc81724920"
   },
   "outputs": [
    {
     "data": {
      "text/plain": [
       "{'learning_rate': 0.001, 'n_estimators': 50}"
      ]
     },
     "execution_count": 50,
     "metadata": {},
     "output_type": "execute_result"
    }
   ],
   "source": [
    "adaClf.best_params_"
   ]
  },
  {
   "cell_type": "code",
   "execution_count": null,
   "metadata": {
    "colab": {
     "base_uri": "https://localhost:8080/"
    },
    "executionInfo": {
     "elapsed": 932069,
     "status": "ok",
     "timestamp": 1604375600796,
     "user": {
      "displayName": "James Formato",
      "photoUrl": "",
      "userId": "11799095701675521078"
     },
     "user_tz": 360
    },
    "id": "ylJ6YeokUk-c",
    "outputId": "14f88018-6f93-4407-88b4-11b5f916fcc6"
   },
   "outputs": [
    {
     "data": {
      "text/plain": [
       "(0.901740020470829, 0.9014336917562724)"
      ]
     },
     "execution_count": 51,
     "metadata": {},
     "output_type": "execute_result"
    }
   ],
   "source": [
    "testPred = adaClf.predict(X_test)\n",
    "trainPred = adaClf.predict(X_train)\n",
    "metrics.accuracy_score(y_test, testPred), metrics.accuracy_score(y_train, trainPred)"
   ]
  },
  {
   "cell_type": "code",
   "execution_count": null,
   "metadata": {
    "colab": {
     "base_uri": "https://localhost:8080/"
    },
    "executionInfo": {
     "elapsed": 932061,
     "status": "ok",
     "timestamp": 1604375600797,
     "user": {
      "displayName": "James Formato",
      "photoUrl": "",
      "userId": "11799095701675521078"
     },
     "user_tz": 360
    },
    "id": "DnmcwQL2UqnM",
    "outputId": "ec99910b-04a0-4a72-a37e-9a2f312aeb52"
   },
   "outputs": [
    {
     "data": {
      "text/plain": [
       "(881, 0, 96, 0)"
      ]
     },
     "execution_count": 52,
     "metadata": {},
     "output_type": "execute_result"
    }
   ],
   "source": [
    "tn, fp, fn, tp = metrics.confusion_matrix(y_test, testPred).ravel()\n",
    "tn, fp, fn, tp # model classified everything as negative so it is effectively useless"
   ]
  },
  {
   "cell_type": "markdown",
   "metadata": {},
   "source": [
    "#### AdaBoost with all vars"
   ]
  },
  {
   "cell_type": "code",
   "execution_count": 53,
   "metadata": {
    "id": "gsqjr8pRNddk"
   },
   "outputs": [
    {
     "data": {
      "text/plain": [
       "1356"
      ]
     },
     "execution_count": 53,
     "metadata": {},
     "output_type": "execute_result"
    }
   ],
   "source": [
    "X = df2.drop(['DIQ010'], axis=1)\n",
    "y = df2['DIQ010']\n",
    "X_train, X_test, y_train, y_test = train_test_split(X, y, test_size=0.3, random_state=99, stratify=y)"
   ]
  },
  {
   "cell_type": "code",
   "execution_count": null,
   "metadata": {},
   "outputs": [],
   "source": [
    "clf = AdaBoostClassifier().fit(X_train, y_train)"
   ]
  },
  {
   "cell_type": "code",
   "execution_count": 54,
   "metadata": {},
   "outputs": [],
   "source": [
    "questionnaire_codes = dfCodes.loc[dfCodes['Component'] == \"Questionnaire\"]\n",
    "var_names = questionnaire_codes['Variable Name']\n",
    "\n",
    "temp_list = []\n",
    "df1 = pd.DataFrame(dfs['SEQN'])\n",
    "\n",
    "for var in var_names:\n",
    "    temp_list.append(str(var))\n",
    "\n",
    "    try:\n",
    "        df1[str(var)] = dfs[str(var)]\n",
    "    except:\n",
    "        pass"
   ]
  },
  {
   "cell_type": "code",
   "execution_count": 55,
   "metadata": {},
   "outputs": [
    {
     "data": {
      "text/html": [
       "<div>\n",
       "<style scoped>\n",
       "    .dataframe tbody tr th:only-of-type {\n",
       "        vertical-align: middle;\n",
       "    }\n",
       "\n",
       "    .dataframe tbody tr th {\n",
       "        vertical-align: top;\n",
       "    }\n",
       "\n",
       "    .dataframe thead th {\n",
       "        text-align: right;\n",
       "    }\n",
       "</style>\n",
       "<table border=\"1\" class=\"dataframe\">\n",
       "  <thead>\n",
       "    <tr style=\"text-align: right;\">\n",
       "      <th></th>\n",
       "      <th>SEQN</th>\n",
       "      <th>DLQ010</th>\n",
       "      <th>DLQ020</th>\n",
       "      <th>DLQ040</th>\n",
       "      <th>DLQ050</th>\n",
       "      <th>DLQ060</th>\n",
       "      <th>DLQ080</th>\n",
       "      <th>DED031</th>\n",
       "      <th>DED120</th>\n",
       "      <th>DED125</th>\n",
       "      <th>...</th>\n",
       "      <th>OHQ895</th>\n",
       "      <th>OHQ900</th>\n",
       "      <th>OCD150</th>\n",
       "      <th>OCD270</th>\n",
       "      <th>OCD390G</th>\n",
       "      <th>OCD395</th>\n",
       "      <th>OCQ180</th>\n",
       "      <th>OCQ210</th>\n",
       "      <th>OCQ260</th>\n",
       "      <th>OCQ380</th>\n",
       "    </tr>\n",
       "  </thead>\n",
       "  <tbody>\n",
       "    <tr>\n",
       "      <th>count</th>\n",
       "      <td>9813.000000</td>\n",
       "      <td>9421.000000</td>\n",
       "      <td>9421.000000</td>\n",
       "      <td>8489.000000</td>\n",
       "      <td>8489.000000</td>\n",
       "      <td>8489.000000</td>\n",
       "      <td>6434.000000</td>\n",
       "      <td>3802.000000</td>\n",
       "      <td>2040.000000</td>\n",
       "      <td>3166.000000</td>\n",
       "      <td>...</td>\n",
       "      <td>1253.000000</td>\n",
       "      <td>1059.000000</td>\n",
       "      <td>6262.000000</td>\n",
       "      <td>3340.000000</td>\n",
       "      <td>6262.000000</td>\n",
       "      <td>3334.000000</td>\n",
       "      <td>3246.000000</td>\n",
       "      <td>981.000000</td>\n",
       "      <td>3340.000000</td>\n",
       "      <td>2727.000000</td>\n",
       "    </tr>\n",
       "    <tr>\n",
       "      <th>mean</th>\n",
       "      <td>78644.559971</td>\n",
       "      <td>1.956268</td>\n",
       "      <td>1.958391</td>\n",
       "      <td>1.901284</td>\n",
       "      <td>1.909294</td>\n",
       "      <td>1.963011</td>\n",
       "      <td>1.932701</td>\n",
       "      <td>4.103630</td>\n",
       "      <td>151.073529</td>\n",
       "      <td>171.256475</td>\n",
       "      <td>...</td>\n",
       "      <td>1.534717</td>\n",
       "      <td>2.768650</td>\n",
       "      <td>2.383743</td>\n",
       "      <td>231.661677</td>\n",
       "      <td>1.664804</td>\n",
       "      <td>318.792741</td>\n",
       "      <td>179.658041</td>\n",
       "      <td>1.716616</td>\n",
       "      <td>1.603593</td>\n",
       "      <td>3.248992</td>\n",
       "    </tr>\n",
       "    <tr>\n",
       "      <th>std</th>\n",
       "      <td>2938.592266</td>\n",
       "      <td>0.225729</td>\n",
       "      <td>0.246782</td>\n",
       "      <td>0.314823</td>\n",
       "      <td>0.304335</td>\n",
       "      <td>0.197887</td>\n",
       "      <td>0.291295</td>\n",
       "      <td>3.798502</td>\n",
       "      <td>144.816356</td>\n",
       "      <td>212.633810</td>\n",
       "      <td>...</td>\n",
       "      <td>0.973179</td>\n",
       "      <td>0.939734</td>\n",
       "      <td>1.464419</td>\n",
       "      <td>3292.010109</td>\n",
       "      <td>0.903897</td>\n",
       "      <td>3710.438631</td>\n",
       "      <td>3597.589277</td>\n",
       "      <td>0.615463</td>\n",
       "      <td>2.870112</td>\n",
       "      <td>2.212644</td>\n",
       "    </tr>\n",
       "    <tr>\n",
       "      <th>min</th>\n",
       "      <td>73557.000000</td>\n",
       "      <td>1.000000</td>\n",
       "      <td>1.000000</td>\n",
       "      <td>1.000000</td>\n",
       "      <td>1.000000</td>\n",
       "      <td>1.000000</td>\n",
       "      <td>1.000000</td>\n",
       "      <td>1.000000</td>\n",
       "      <td>14.000000</td>\n",
       "      <td>14.000000</td>\n",
       "      <td>...</td>\n",
       "      <td>1.000000</td>\n",
       "      <td>1.000000</td>\n",
       "      <td>1.000000</td>\n",
       "      <td>0.000000</td>\n",
       "      <td>1.000000</td>\n",
       "      <td>0.000000</td>\n",
       "      <td>1.000000</td>\n",
       "      <td>1.000000</td>\n",
       "      <td>1.000000</td>\n",
       "      <td>1.000000</td>\n",
       "    </tr>\n",
       "    <tr>\n",
       "      <th>25%</th>\n",
       "      <td>76092.000000</td>\n",
       "      <td>2.000000</td>\n",
       "      <td>2.000000</td>\n",
       "      <td>2.000000</td>\n",
       "      <td>2.000000</td>\n",
       "      <td>2.000000</td>\n",
       "      <td>2.000000</td>\n",
       "      <td>3.000000</td>\n",
       "      <td>45.000000</td>\n",
       "      <td>60.000000</td>\n",
       "      <td>...</td>\n",
       "      <td>1.000000</td>\n",
       "      <td>3.000000</td>\n",
       "      <td>1.000000</td>\n",
       "      <td>12.000000</td>\n",
       "      <td>1.000000</td>\n",
       "      <td>48.000000</td>\n",
       "      <td>32.000000</td>\n",
       "      <td>1.000000</td>\n",
       "      <td>1.000000</td>\n",
       "      <td>2.000000</td>\n",
       "    </tr>\n",
       "    <tr>\n",
       "      <th>50%</th>\n",
       "      <td>78643.000000</td>\n",
       "      <td>2.000000</td>\n",
       "      <td>2.000000</td>\n",
       "      <td>2.000000</td>\n",
       "      <td>2.000000</td>\n",
       "      <td>2.000000</td>\n",
       "      <td>2.000000</td>\n",
       "      <td>4.000000</td>\n",
       "      <td>120.000000</td>\n",
       "      <td>120.000000</td>\n",
       "      <td>...</td>\n",
       "      <td>1.000000</td>\n",
       "      <td>3.000000</td>\n",
       "      <td>1.000000</td>\n",
       "      <td>48.000000</td>\n",
       "      <td>1.000000</td>\n",
       "      <td>132.000000</td>\n",
       "      <td>40.000000</td>\n",
       "      <td>2.000000</td>\n",
       "      <td>1.000000</td>\n",
       "      <td>3.000000</td>\n",
       "    </tr>\n",
       "    <tr>\n",
       "      <th>75%</th>\n",
       "      <td>81191.000000</td>\n",
       "      <td>2.000000</td>\n",
       "      <td>2.000000</td>\n",
       "      <td>2.000000</td>\n",
       "      <td>2.000000</td>\n",
       "      <td>2.000000</td>\n",
       "      <td>2.000000</td>\n",
       "      <td>5.000000</td>\n",
       "      <td>240.000000</td>\n",
       "      <td>240.000000</td>\n",
       "      <td>...</td>\n",
       "      <td>2.000000</td>\n",
       "      <td>3.000000</td>\n",
       "      <td>4.000000</td>\n",
       "      <td>120.000000</td>\n",
       "      <td>2.000000</td>\n",
       "      <td>264.000000</td>\n",
       "      <td>47.000000</td>\n",
       "      <td>2.000000</td>\n",
       "      <td>1.000000</td>\n",
       "      <td>4.000000</td>\n",
       "    </tr>\n",
       "    <tr>\n",
       "      <th>max</th>\n",
       "      <td>83731.000000</td>\n",
       "      <td>9.000000</td>\n",
       "      <td>9.000000</td>\n",
       "      <td>9.000000</td>\n",
       "      <td>9.000000</td>\n",
       "      <td>7.000000</td>\n",
       "      <td>9.000000</td>\n",
       "      <td>99.000000</td>\n",
       "      <td>480.000000</td>\n",
       "      <td>9999.000000</td>\n",
       "      <td>...</td>\n",
       "      <td>9.000000</td>\n",
       "      <td>9.000000</td>\n",
       "      <td>4.000000</td>\n",
       "      <td>77777.000000</td>\n",
       "      <td>9.000000</td>\n",
       "      <td>99999.000000</td>\n",
       "      <td>99999.000000</td>\n",
       "      <td>9.000000</td>\n",
       "      <td>77.000000</td>\n",
       "      <td>77.000000</td>\n",
       "    </tr>\n",
       "  </tbody>\n",
       "</table>\n",
       "<p>8 rows × 739 columns</p>\n",
       "</div>"
      ],
      "text/plain": [
       "               SEQN       DLQ010       DLQ020       DLQ040       DLQ050  \\\n",
       "count   9813.000000  9421.000000  9421.000000  8489.000000  8489.000000   \n",
       "mean   78644.559971     1.956268     1.958391     1.901284     1.909294   \n",
       "std     2938.592266     0.225729     0.246782     0.314823     0.304335   \n",
       "min    73557.000000     1.000000     1.000000     1.000000     1.000000   \n",
       "25%    76092.000000     2.000000     2.000000     2.000000     2.000000   \n",
       "50%    78643.000000     2.000000     2.000000     2.000000     2.000000   \n",
       "75%    81191.000000     2.000000     2.000000     2.000000     2.000000   \n",
       "max    83731.000000     9.000000     9.000000     9.000000     9.000000   \n",
       "\n",
       "            DLQ060       DLQ080       DED031       DED120       DED125  ...  \\\n",
       "count  8489.000000  6434.000000  3802.000000  2040.000000  3166.000000  ...   \n",
       "mean      1.963011     1.932701     4.103630   151.073529   171.256475  ...   \n",
       "std       0.197887     0.291295     3.798502   144.816356   212.633810  ...   \n",
       "min       1.000000     1.000000     1.000000    14.000000    14.000000  ...   \n",
       "25%       2.000000     2.000000     3.000000    45.000000    60.000000  ...   \n",
       "50%       2.000000     2.000000     4.000000   120.000000   120.000000  ...   \n",
       "75%       2.000000     2.000000     5.000000   240.000000   240.000000  ...   \n",
       "max       7.000000     9.000000    99.000000   480.000000  9999.000000  ...   \n",
       "\n",
       "            OHQ895       OHQ900       OCD150        OCD270      OCD390G  \\\n",
       "count  1253.000000  1059.000000  6262.000000   3340.000000  6262.000000   \n",
       "mean      1.534717     2.768650     2.383743    231.661677     1.664804   \n",
       "std       0.973179     0.939734     1.464419   3292.010109     0.903897   \n",
       "min       1.000000     1.000000     1.000000      0.000000     1.000000   \n",
       "25%       1.000000     3.000000     1.000000     12.000000     1.000000   \n",
       "50%       1.000000     3.000000     1.000000     48.000000     1.000000   \n",
       "75%       2.000000     3.000000     4.000000    120.000000     2.000000   \n",
       "max       9.000000     9.000000     4.000000  77777.000000     9.000000   \n",
       "\n",
       "             OCD395        OCQ180      OCQ210       OCQ260       OCQ380  \n",
       "count   3334.000000   3246.000000  981.000000  3340.000000  2727.000000  \n",
       "mean     318.792741    179.658041    1.716616     1.603593     3.248992  \n",
       "std     3710.438631   3597.589277    0.615463     2.870112     2.212644  \n",
       "min        0.000000      1.000000    1.000000     1.000000     1.000000  \n",
       "25%       48.000000     32.000000    1.000000     1.000000     2.000000  \n",
       "50%      132.000000     40.000000    2.000000     1.000000     3.000000  \n",
       "75%      264.000000     47.000000    2.000000     1.000000     4.000000  \n",
       "max    99999.000000  99999.000000    9.000000    77.000000    77.000000  \n",
       "\n",
       "[8 rows x 739 columns]"
      ]
     },
     "execution_count": 55,
     "metadata": {},
     "output_type": "execute_result"
    }
   ],
   "source": [
    "df1.describe()"
   ]
  },
  {
   "cell_type": "code",
   "execution_count": 56,
   "metadata": {},
   "outputs": [],
   "source": [
    "correlations = df1.notnull().corr()\n",
    "#sns.heatmap(correlations, annot=True)"
   ]
  },
  {
   "cell_type": "code",
   "execution_count": 57,
   "metadata": {},
   "outputs": [
    {
     "data": {
      "text/html": [
       "<div>\n",
       "<style scoped>\n",
       "    .dataframe tbody tr th:only-of-type {\n",
       "        vertical-align: middle;\n",
       "    }\n",
       "\n",
       "    .dataframe tbody tr th {\n",
       "        vertical-align: top;\n",
       "    }\n",
       "\n",
       "    .dataframe thead th {\n",
       "        text-align: right;\n",
       "    }\n",
       "</style>\n",
       "<table border=\"1\" class=\"dataframe\">\n",
       "  <thead>\n",
       "    <tr style=\"text-align: right;\">\n",
       "      <th></th>\n",
       "      <th>SEQN</th>\n",
       "      <th>DLQ010</th>\n",
       "      <th>DLQ020</th>\n",
       "      <th>DLQ040</th>\n",
       "      <th>DLQ050</th>\n",
       "      <th>DLQ060</th>\n",
       "      <th>DLQ080</th>\n",
       "      <th>DED031</th>\n",
       "      <th>DED120</th>\n",
       "      <th>DED125</th>\n",
       "      <th>...</th>\n",
       "      <th>OHQ895</th>\n",
       "      <th>OHQ900</th>\n",
       "      <th>OCD150</th>\n",
       "      <th>OCD270</th>\n",
       "      <th>OCD390G</th>\n",
       "      <th>OCD395</th>\n",
       "      <th>OCQ180</th>\n",
       "      <th>OCQ210</th>\n",
       "      <th>OCQ260</th>\n",
       "      <th>OCQ380</th>\n",
       "    </tr>\n",
       "  </thead>\n",
       "  <tbody>\n",
       "    <tr>\n",
       "      <th>SEQN</th>\n",
       "      <td>NaN</td>\n",
       "      <td>NaN</td>\n",
       "      <td>NaN</td>\n",
       "      <td>NaN</td>\n",
       "      <td>NaN</td>\n",
       "      <td>NaN</td>\n",
       "      <td>NaN</td>\n",
       "      <td>NaN</td>\n",
       "      <td>NaN</td>\n",
       "      <td>NaN</td>\n",
       "      <td>...</td>\n",
       "      <td>NaN</td>\n",
       "      <td>NaN</td>\n",
       "      <td>NaN</td>\n",
       "      <td>NaN</td>\n",
       "      <td>NaN</td>\n",
       "      <td>NaN</td>\n",
       "      <td>NaN</td>\n",
       "      <td>NaN</td>\n",
       "      <td>NaN</td>\n",
       "      <td>NaN</td>\n",
       "    </tr>\n",
       "    <tr>\n",
       "      <th>DLQ010</th>\n",
       "      <td>NaN</td>\n",
       "      <td>1.00000</td>\n",
       "      <td>1.00000</td>\n",
       "      <td>0.51651</td>\n",
       "      <td>0.51651</td>\n",
       "      <td>0.51651</td>\n",
       "      <td>0.281476</td>\n",
       "      <td>0.162229</td>\n",
       "      <td>0.104500</td>\n",
       "      <td>0.140779</td>\n",
       "      <td>...</td>\n",
       "      <td>0.078043</td>\n",
       "      <td>0.070948</td>\n",
       "      <td>0.270879</td>\n",
       "      <td>0.146526</td>\n",
       "      <td>0.270879</td>\n",
       "      <td>0.146327</td>\n",
       "      <td>0.143412</td>\n",
       "      <td>0.067983</td>\n",
       "      <td>0.146526</td>\n",
       "      <td>0.126543</td>\n",
       "    </tr>\n",
       "    <tr>\n",
       "      <th>DLQ020</th>\n",
       "      <td>NaN</td>\n",
       "      <td>1.00000</td>\n",
       "      <td>1.00000</td>\n",
       "      <td>0.51651</td>\n",
       "      <td>0.51651</td>\n",
       "      <td>0.51651</td>\n",
       "      <td>0.281476</td>\n",
       "      <td>0.162229</td>\n",
       "      <td>0.104500</td>\n",
       "      <td>0.140779</td>\n",
       "      <td>...</td>\n",
       "      <td>0.078043</td>\n",
       "      <td>0.070948</td>\n",
       "      <td>0.270879</td>\n",
       "      <td>0.146526</td>\n",
       "      <td>0.270879</td>\n",
       "      <td>0.146327</td>\n",
       "      <td>0.143412</td>\n",
       "      <td>0.067983</td>\n",
       "      <td>0.146526</td>\n",
       "      <td>0.126543</td>\n",
       "    </tr>\n",
       "    <tr>\n",
       "      <th>DLQ040</th>\n",
       "      <td>NaN</td>\n",
       "      <td>0.51651</td>\n",
       "      <td>0.51651</td>\n",
       "      <td>1.00000</td>\n",
       "      <td>1.00000</td>\n",
       "      <td>1.00000</td>\n",
       "      <td>0.544957</td>\n",
       "      <td>0.314086</td>\n",
       "      <td>0.202319</td>\n",
       "      <td>0.272558</td>\n",
       "      <td>...</td>\n",
       "      <td>0.151096</td>\n",
       "      <td>0.137360</td>\n",
       "      <td>0.524441</td>\n",
       "      <td>0.283685</td>\n",
       "      <td>0.524441</td>\n",
       "      <td>0.283299</td>\n",
       "      <td>0.277656</td>\n",
       "      <td>0.131620</td>\n",
       "      <td>0.283685</td>\n",
       "      <td>0.244995</td>\n",
       "    </tr>\n",
       "    <tr>\n",
       "      <th>DLQ050</th>\n",
       "      <td>NaN</td>\n",
       "      <td>0.51651</td>\n",
       "      <td>0.51651</td>\n",
       "      <td>1.00000</td>\n",
       "      <td>1.00000</td>\n",
       "      <td>1.00000</td>\n",
       "      <td>0.544957</td>\n",
       "      <td>0.314086</td>\n",
       "      <td>0.202319</td>\n",
       "      <td>0.272558</td>\n",
       "      <td>...</td>\n",
       "      <td>0.151096</td>\n",
       "      <td>0.137360</td>\n",
       "      <td>0.524441</td>\n",
       "      <td>0.283685</td>\n",
       "      <td>0.524441</td>\n",
       "      <td>0.283299</td>\n",
       "      <td>0.277656</td>\n",
       "      <td>0.131620</td>\n",
       "      <td>0.283685</td>\n",
       "      <td>0.244995</td>\n",
       "    </tr>\n",
       "  </tbody>\n",
       "</table>\n",
       "<p>5 rows × 741 columns</p>\n",
       "</div>"
      ],
      "text/plain": [
       "        SEQN   DLQ010   DLQ020   DLQ040   DLQ050   DLQ060    DLQ080    DED031  \\\n",
       "SEQN     NaN      NaN      NaN      NaN      NaN      NaN       NaN       NaN   \n",
       "DLQ010   NaN  1.00000  1.00000  0.51651  0.51651  0.51651  0.281476  0.162229   \n",
       "DLQ020   NaN  1.00000  1.00000  0.51651  0.51651  0.51651  0.281476  0.162229   \n",
       "DLQ040   NaN  0.51651  0.51651  1.00000  1.00000  1.00000  0.544957  0.314086   \n",
       "DLQ050   NaN  0.51651  0.51651  1.00000  1.00000  1.00000  0.544957  0.314086   \n",
       "\n",
       "          DED120    DED125  ...    OHQ895    OHQ900    OCD150    OCD270  \\\n",
       "SEQN         NaN       NaN  ...       NaN       NaN       NaN       NaN   \n",
       "DLQ010  0.104500  0.140779  ...  0.078043  0.070948  0.270879  0.146526   \n",
       "DLQ020  0.104500  0.140779  ...  0.078043  0.070948  0.270879  0.146526   \n",
       "DLQ040  0.202319  0.272558  ...  0.151096  0.137360  0.524441  0.283685   \n",
       "DLQ050  0.202319  0.272558  ...  0.151096  0.137360  0.524441  0.283685   \n",
       "\n",
       "         OCD390G    OCD395    OCQ180    OCQ210    OCQ260    OCQ380  \n",
       "SEQN         NaN       NaN       NaN       NaN       NaN       NaN  \n",
       "DLQ010  0.270879  0.146327  0.143412  0.067983  0.146526  0.126543  \n",
       "DLQ020  0.270879  0.146327  0.143412  0.067983  0.146526  0.126543  \n",
       "DLQ040  0.524441  0.283299  0.277656  0.131620  0.283685  0.244995  \n",
       "DLQ050  0.524441  0.283299  0.277656  0.131620  0.283685  0.244995  \n",
       "\n",
       "[5 rows x 741 columns]"
      ]
     },
     "execution_count": 57,
     "metadata": {},
     "output_type": "execute_result"
    }
   ],
   "source": [
    "correlations.head()"
   ]
  },
  {
   "cell_type": "code",
   "execution_count": 58,
   "metadata": {},
   "outputs": [
    {
     "name": "stdout",
     "output_type": "stream",
     "text": [
      "DLQ010    1.000000\n",
      "DBQ197    1.000000\n",
      "MCQ010    1.000000\n",
      "MCQ053    1.000000\n",
      "HUQ020    1.000000\n",
      "DIQ010    1.000000\n",
      "DLQ020    1.000000\n",
      "OHQ030    0.998674\n",
      "DIQ050    0.998674\n",
      "OHQ845    0.998674\n",
      "Name: DIQ010, dtype: float64\n"
     ]
    }
   ],
   "source": [
    "print(abs(correlations[\"DIQ010\"]).sort_values(ascending=False).head(10))"
   ]
  },
  {
   "cell_type": "code",
   "execution_count": 59,
   "metadata": {},
   "outputs": [
    {
     "name": "stdout",
     "output_type": "stream",
     "text": [
      "523    The next questions are about specific medical ...\n",
      "Name: Variable Description, dtype: object\n",
      "528    {Have you/Has SP} ever been told by a doctor o...\n",
      "Name: Variable Description, dtype: object\n",
      "594    During the past 30 days, on the days that you ...\n",
      "Name: Variable Description, dtype: object\n",
      "526    {Is SP/Are you} now taking diabetic pills to l...\n",
      "Name: Variable Description, dtype: object\n",
      "524    {Is SP/Are you} now taking insulin\n",
      "Name: Variable Description, dtype: object\n",
      "802    How long has it been since you last used heroin?\n",
      "844    How long has it been since you last used heroin?\n",
      "Name: Variable Description, dtype: object\n",
      "810    During the past 30 days, on how many days did ...\n",
      "852    During the past 30 days, on how many days did ...\n",
      "Name: Variable Description, dtype: object\n"
     ]
    }
   ],
   "source": [
    "questionnaire_var_codes = [\"DIQ010\", \"DIQ160\", \"SMQ661\", \"DIQ070\", \"DIQ050\", \"DUQ310Q\", \"DUQ360\"]\n",
    "\n",
    "for c in questionnaire_var_codes:\n",
    "    print(dfCodes.loc[dfCodes[\"Variable Name\"] == c][\"Variable Description\"])"
   ]
  },
  {
   "cell_type": "code",
   "execution_count": 61,
   "metadata": {},
   "outputs": [],
   "source": [
    "#q_corr = questionnaire_variables.notnull().corr()\n"
   ]
  },
  {
   "cell_type": "code",
   "execution_count": null,
   "metadata": {},
   "outputs": [],
   "source": [
    "plt.plot(learning_rate, recallTrain, label='Train')\n",
    "plt.plot(learning_rate, recallTest, label='Test')\n",
    "plt.legend()\n",
    "plt.title('Learning Rate')"
   ]
  },
  {
   "cell_type": "markdown",
   "metadata": {
    "id": "1ne6Jw1ViZVS"
   },
   "source": [
    "## Gradient Boost Classifier"
   ]
  },
  {
   "cell_type": "code",
   "execution_count": 63,
   "metadata": {},
   "outputs": [],
   "source": [
    "from sklearn.ensemble import GradientBoostingClassifier\n",
    "\n"
   ]
  },
  {
   "cell_type": "code",
   "execution_count": 64,
   "metadata": {},
   "outputs": [
    {
     "data": {
      "text/plain": [
       "GradientBoostingClassifier()"
      ]
     },
     "execution_count": 64,
     "metadata": {},
     "output_type": "execute_result"
    }
   ],
   "source": [
    "GradientBoostingClassifier()"
   ]
  },
  {
   "cell_type": "code",
   "execution_count": 65,
   "metadata": {},
   "outputs": [
    {
     "name": "stdout",
     "output_type": "stream",
     "text": [
      "0.9293394777265745\n",
      "0.9089048106448311\n"
     ]
    }
   ],
   "source": [
    "gbclf = GradientBoostingClassifier()\n",
    "gbclf.fit(X_train,y_train)\n",
    "pred = gbclf.predict(X_train)\n",
    "\n",
    "\n",
    "accuracy_train = gbclf.predict(X_train) \n",
    "print(metrics.accuracy_score(y_true = y_train, y_pred = accuracy_train))\n",
    "    \n",
    "accuracy_test = gbclf.predict(X_test) \n",
    "print(metrics.accuracy_score(y_true = y_test, y_pred = accuracy_test))\n"
   ]
  },
  {
   "cell_type": "code",
   "execution_count": 66,
   "metadata": {},
   "outputs": [
    {
     "data": {
      "text/plain": [
       "array([[3506,   15],\n",
       "       [ 261,  124]])"
      ]
     },
     "execution_count": 66,
     "metadata": {},
     "output_type": "execute_result"
    }
   ],
   "source": [
    "mcm = metrics.confusion_matrix(y_train, pred)\n",
    "mcm"
   ]
  },
  {
   "cell_type": "code",
   "execution_count": 67,
   "metadata": {},
   "outputs": [
    {
     "name": "stdout",
     "output_type": "stream",
     "text": [
      "Recall is 0.322078.\n",
      "Specificity is 0.995740.\n",
      "Precision is 0.892086.\n",
      "False Positive Rate is 0.004260.\n",
      "F1 Score is 0.473282.\n"
     ]
    }
   ],
   "source": [
    "#### test different number of estimators"
   ]
  },
  {
   "cell_type": "code",
   "execution_count": null,
   "metadata": {},
   "outputs": [],
   "source": [
    "recallTrain = []\n",
    "recallTest = []\n",
    "stubs = range(100, 1600, 100)\n",
    "for i in stubs:\n",
    "    clf = AdaBoostClassifier(n_estimators=i).fit(X_train, y_train)\n",
    "    recallTrain.append(metrics.recall_score(y_train, clf.predict(X_train)))\n",
    "    recallTest.append(metrics.recall_score(y_test, clf.predict(X_test)))"
   ]
  },
  {
   "cell_type": "code",
   "execution_count": 69,
   "metadata": {},
   "outputs": [
    {
     "name": "stdout",
     "output_type": "stream",
     "text": [
      "Fitting 5 folds for each of 9 candidates, totalling 45 fits\n"
     ]
    },
    {
     "name": "stderr",
     "output_type": "stream",
     "text": [
      "[Parallel(n_jobs=1)]: Using backend SequentialBackend with 1 concurrent workers.\n",
      "[Parallel(n_jobs=1)]: Done  45 out of  45 | elapsed:   35.3s finished\n"
     ]
    }
   ],
   "source": [
    "plt.plot(stubs, recallTrain, label='Train')\n",
    "plt.plot(stubs, recallTest, label='Test')\n",
    "plt.legend()\n",
    "plt.title('Stubs')"
   ]
  },
  {
   "cell_type": "code",
   "execution_count": 70,
   "metadata": {},
   "outputs": [
    {
     "data": {
      "text/plain": [
       "{'learning_rate': 0.1, 'n_estimators': 50}"
      ]
     },
     "execution_count": 70,
     "metadata": {},
     "output_type": "execute_result"
    }
   ],
   "execution_count": null,
   "metadata": {
    "colab": {
     "base_uri": "https://localhost:8080/"
    },
    "executionInfo": {
     "elapsed": 932205,
     "status": "ok",
     "timestamp": 1604375600949,
     "user": {
      "displayName": "James Formato",
      "photoUrl": "",
      "userId": "11799095701675521078"
     },
     "user_tz": 360
    },
    "id": "NL8GJt5W4Qzx",
    "outputId": "b64b3e64-8d65-4b7d-830a-322010d1112c"
   },
   "outputs": [],
   "source": [
    "# Count of how many variables in a df have a certain number of NA's\n",
    "count = dfs.isna().sum()\n",
    "drop = []\n",
    "\n",
    "for i in range(len(count)):\n",
    "    if count[i] > 4000:\n",
    "        drop.append(count.index[i])\n",
    "        \n",
    "len(drop)"
   ]
  },
  {
   "cell_type": "code",
   "execution_count": 71,
   "metadata": {},
   "outputs": [
    {
     "name": "stdout",
     "output_type": "stream",
     "text": [
      "0.9183307731694829\n",
      "0.9089048106448311\n"
     ]
    }
   ],
   "source": [
    "gbclf = GradientBoostingClassifier(learning_rate = 0.1, n_estimators = 50)\n",
    "gbclf.fit(X_train,y_train)\n",
    "pred = gbclf.predict(X_train)\n",
    "\n",
    "\n",
    "accuracy_train = gbclf.predict(X_train) \n",
    "print(metrics.accuracy_score(y_true = y_train, y_pred = accuracy_train))\n",
    "    \n",
    "accuracy_test = gbclf.predict(X_test) \n",
    "print(metrics.accuracy_score(y_true = y_test, y_pred = accuracy_test))\n"
   ]
  },
  {
   "cell_type": "code",
   "execution_count": 72,
   "metadata": {},
   "outputs": [
    {
     "data": {
      "text/plain": [
       "array([[3510,   11],\n",
       "       [ 308,   77]])"
      ]
     },
     "execution_count": 72,
     "metadata": {},
     "output_type": "execute_result"
    }
   ],
   "source": [
    "mcm = metrics.confusion_matrix(y_train, pred)\n",
    "mcm"
   ]
  },
  {
   "cell_type": "code",
   "execution_count": 98,
   "metadata": {},
   "outputs": [
    {
     "data": {
      "text/plain": [
       "<matplotlib.axes._subplots.AxesSubplot at 0x7fd2f4778280>"
      ]
     },
     "execution_count": 98,
     "metadata": {},
     "output_type": "execute_result"
    },
    {
     "data": {
      "image/png": "[encoded data removed]",
      "text/plain": [
       "<Figure size 432x288 with 2 Axes>"
      ]
     },
     "metadata": {
      "needs_background": "light"
     },
     "output_type": "display_data"
    }
   ],
   "source": [
    "sns.heatmap(mcm)"
   ]
  },
  {
   "cell_type": "code",
   "execution_count": 73,
   "metadata": {},
   "outputs": [
    {
     "name": "stdout",
     "output_type": "stream",
     "text": [
      "Recall is 0.200000.\n",
      "Specificity is 0.996876.\n",
      "Precision is 0.875000.\n",
      "False Positive Rate is 0.003124.\n",
      "F1 Score is 0.325581.\n"
     ]
    }
   ],
   "source": [
    "tn = mcm[0, 0]\n",
    "tp = mcm[1, 1]\n",
    "fn = mcm[1, 0]\n",
    "fp = mcm[0, 1]\n",
    "recall = metrics.recall_score(y_true = y_train, y_pred = pred)\n",
    "precision = metrics.precision_score(y_true = y_train, y_pred = pred)\n",
    "f_one = (2 * (precision * recall) / (precision + recall))\n",
    "print(\"Recall is %f.\\nSpecificity is %f.\\nPrecision is %f.\\nFalse Positive Rate is %f.\\nF1 Score is %f.\" % \n",
    "     (recall, tn / (tn + fp), precision, fp / (fp + tn), f_one))"
   ]
  },
  {
   "cell_type": "code",
   "execution_count": 97,
   "metadata": {},
   "outputs": [],
   "source": [
    "from sklearn import tree\n",
    "from sklearn.tree import export_graphviz\n",
    "from sklearn.ensemble import GradientBoostingClassifier\n",
    "from sklearn.tree import export_graphviz\n",
    "from pydotplus import graph_from_dot_data\n",
    "from IPython.display import Image"
   ]
  },
  {
   "cell_type": "code",
   "execution_count": 94,
   "metadata": {},
   "outputs": [
    {
     "name": "stdout",
     "output_type": "stream",
     "text": [
      "Collecting package metadata (current_repodata.json): done\n",
      "Solving environment: done\n",
      "\n",
      "# All requested packages already installed.\n",
      "\n"
     ]
    }
   ],
   "source": []
  },
  {
   "cell_type": "code",
   "execution_count": 89,
   "metadata": {},
   "outputs": [],
   "source": [
    "\n",
    "dot_data = export_graphviz(\n",
    "    gbclf.estimators_[42, 0],\n",
    "    out_file=None, filled=True, rounded=True,\n",
    "    special_characters=True,\n",
    "    proportion=False, impurity=False, # enable them if you want\n",
    ")\n",
    "graph = graph_from_dot_data(dot_data)\n",
    "#Image(graph.create_png())"
   ]
  },
  {
   "cell_type": "code",
   "execution_count": 90,
   "metadata": {},
   "outputs": [
    {
     "data": {
      "text/plain": [
       "<pydotplus.graphviz.Dot at 0x7fd2f46d5850>"
      ]
     },
     "execution_count": 90,
     "metadata": {},
     "output_type": "execute_result"
    }
   ],
   "source": [
    "graph"
   ]
  },
  {
   "cell_type": "code",
   "execution_count": 96,
   "metadata": {},
   "outputs": [
    {
     "data": {
      "image/png": "[encoded data removed]",
      "text/plain": [
       "<IPython.core.display.Image object>"
      ]
     },
     "execution_count": 96,
     "metadata": {},
     "output_type": "execute_result"
    }
   ],
   "source": [
    "Image(graph.create_png())"
   ]
  },
  {
   "cell_type": "code",
   "execution_count": null,
   "metadata": {
    "id": "1ne6Jw1ViZVS"
   },
   "outputs": [],
   "source": []
  }
 ],
 "metadata": {
  "colab": {
   "collapsed_sections": [],
   "name": "AdvancedMachineLearning_FinalProject.ipynb",
   "provenance": []
  },
  "kernelspec": {
   "display_name": "Python 3",
   "language": "python",
   "name": "python3"
  },
  "language_info": {
   "codemirror_mode": {
    "name": "ipython",
    "version": 3
   },
   "file_extension": ".py",
   "mimetype": "text/x-python",
   "name": "python",
   "nbconvert_exporter": "python",
   "pygments_lexer": "ipython3",
   "version": "3.8.3"
  }
 },
 "nbformat": 4,
 "nbformat_minor": 1
}
