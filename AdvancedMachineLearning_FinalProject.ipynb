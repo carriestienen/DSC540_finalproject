{
 "cells": [
  {
   "cell_type": "markdown",
   "metadata": {
    "id": "WhMoDz8V3-LK"
   },
   "source": [
    "Brooke Bilton, Carrie Stienen, Jacob Mikrut, James Formato\n",
    "\n",
    "**•Motivation [10]: What problem are you tackling, and what's the setting you're considering? What data are you working on? Did anything change from the proposal regarding data, objectives, and methods that you will apply?**\n",
    "\n",
    "We have shifted our focus in the dataset to the portion of the respondants that have indicated that a doctor has told them they have Diabetes (variable DIQ010). Since this dataset hase almost 1,800 variables we needed to focus on a more manageable subset. We decided to focus on the data that involves people with diabetes. We are now working towards using subsets of variables (demographics, lab results, diet info, exam info, and a questionnaire) to predict whether or not people have diabetes. The biggest problems we are encoutering is a large amount of missing data and many attributes that are extremely weakly correlated to our dependent variable (DIQ010).\n",
    "\n",
    "**•Exploratory Data Analysis (EDA) [30]: What data visualizations have you applied? What are your findings in the data before applying any data mining technique? At this stage sufficient EDA should have been done.**\n",
    "\n",
    "(Brooke) Some exploratory data analysis techniques that were used include heatmaps to view variable correlations, descriptive statistics to get an overall idea about what the data looks like, and different visualizations to show the distributions of the variables. 1D and 2D scatter plots, histograms, and bar charts were used. From the lab data, we can conclude that 25% of the patients have total cholesteral higher than 200, which could indicate a likelihood of those individuals having diabetes.\n",
    "\n",
    "(John) The correlation matrix revealed that out of the 30 variables we chose, only 8 have a correlation greater than 0.1 and only 3 have correlations greater than 0.2 relative to the target. The demographic variables except for RIDAGEYR and DMDHHSIZ (Age and Household size) were almost completely uncorrelated to our target variable. \n",
    "\n",
    "(Jacob) I utilized displots, binned displots and jointplots. I first wanted to view if there were any correlation between blood pressure and our dependent variable ('DIQ010’). For this I used a jointplot. This created an easy visualization in order to observe where the distribution of positive and negative test cases were located along the range of systolic (‘BPXSY1’) and diastolic (‘BPXDI1’) blood pressure readings. I placed axis lines that highlight the ideal ranges for both values. For the rest of the examination variables, they are variables that entertain a range of values. A displot creates the most visually straight forward representation of this data. I then categorized the visualizations in order to show the correlation between the distribution of positive and negative cases per value.\n",
    "\n",
    "(James) I utilized two different vizualization techniques. The first was a heatmap of only \"dietary\" type columns. As expected most of the actual nutrients included in our diet are highly correlated with one another. This makes sense since the intake of food shares a linear relationship with one another. Interestingly, caffiene intake is not that correlated with teh other variabels, which is something I expected. I also, expected alchol intake to have a higher correlation, but people may not drink as much as I thought, or they're lying to their doctors.\n",
    "\n",
    "I also ran two PCA anlysis on the data. The first was on only dietary columns, while the second was on the entire selected dataset. When looking soley at the dietary variables most of the variance is captured within one component. Using two principal components captures about 91% of the variance within the dietary variables. Which is to be expected from looking at the correlation matrix. Since all the nutrient variables were highly correlated its to be expected that most of the variance is captured within one component. \n",
    "\n",
    "When looking at the entire dataset, about four principal components capture 94% of the variance in our dataset. Which is incredible given there are 30 features in the dataset. Given that our dataset is comprised of 5 main categories it makes sense and seems realistic.\n",
    "\n",
    "\n",
    "\n",
    "**•Machine Learning (ML) [10]: Which ML techniques have you tried? What others will you apply?**\n",
    "\n",
    "(John) I used both Random Forest and AdaBoost. Both performed very poorly even while only using a subset of our data had higher correlations to the target variable. In both cases, the models performed poorly at classifying positives cases (people with diabetes). Grid Search was used with both and hyperparameters were found that are similar to the default values.\n",
    "\n",
    "(Brooke) I used a Decision Tree Classifer with all of the variables we selected, and used the variable for whether or not the doctor said you have diabetes as the target variable.\n",
    "\n",
    "**•Experiment results [10]: Show the ML experiments that you've run, the outcomes, and any error analysis that you've done. ** \n",
    "Random Forest - accuracy = 90%, Matthew's Correlation Coef = 0.27\n",
    "This model is very bad at classifying positive cases (low recall score). \n",
    "AbaBoost - accuracy = 90%, Matthew's Correlation Coef = UndefinedIt seems like our independent variables are not correlated highly enough to the target to produce good RF or AdaBoost models.\n",
    "\n",
    "Decicsion Tree Classifier- Accuracy = 85% with a low recall score 0.36\n",
    "\n",
    "\n",
    "**•Research questions [20]: Which of the research questions have you tried to answer that you came up with during your proposal?**\n",
    "\n",
    "\n",
    "What lab results are most correlated to each other and to various demographic groups? Can we use these to predict potential health problems? \n",
    "  ·  Correlation matrix, regression analysis \n",
    "\n",
    "<strong>We sorted through the variables, pulled out the vars we found most relevant and that had the least number of missing values. We then ran a correlation matrix on them to observe which variables seem to trend with a positive rate of diabetes. We found that 'BPXSY1', 'BMXBMI', 'BMXWAIST', 'LBXSKSI', 'LBXWBCSI', 'DR1TCARB', 'DR1TKCAL', 'DR1TSUGR', 'RIDAGEYR', 'DMDHHSIZ' variables all had a correlation threshhold of 0.075 or greater to our dependent variable('DIQ010')\n",
    "</strong>\n",
    "\n",
    "What variable values are potentially indicators for other health outcomes?  \n",
    "  · clustering \n",
    "\n",
    "<strong>\n",
    "We have yet to test our data set to correlate with other potential health outcomes/ailments, apart from those directly related to diabetes such as hypertension and BMI.\n",
    "</strong>\n",
    "\n",
    "\n",
    "What values of specific variables indicate potential “danger zones” for different health outcomes?             \n",
    "  ·  K-nearest neighbor \n",
    "\n",
    "<strong>\n",
    "Due to our projects pivot towards concentrating mostly on diabetes and the lack of correlating variables/missing values we changed this question. We are exploring what values of our correlating variables relate to the 185 test cases that responded as \"borderline\" (value = 3) diebetic patients to our dependent variable('DIQ010'). The small testing sample of these \"borderline\" observations makes finding any true correlation difficult.\n",
    "</strong>\n",
    "\n",
    "If different demographic or dietary intake correlate with lab results to offer insight on potential increased risk for health ailments. \n",
    "  · Classification\n",
    "\n",
    "<strong>\n",
    "We ran preliminary correlation testing on demographic data, and it didn’t seem to yield any meaningful correlation with dependent variable('DIQ010’). The only variables that seem to relate were age ('RIDAGEYR') and number of individuals in the household ('DMDHHSIZ’). Because of the lack of effective results, we haven’t sent much time on this.\n",
    "</strong>\n",
    "\n",
    "\n",
    "\n",
    "\n",
    "•Next steps [10]: Given your preliminary results, what are the next steps that you're considering?\n",
    "\n",
    "In addition to Random Forest and AdaBoost, we will also use PCA, SVM, and Regression. PCA should allow us to drastically reduce the number of variables contributing to our models. SVM usually works well for dataset with many variables and not many rows like ours has. Since much of our independent variables are continuous, regression also has a chance of performing well assuming we can find an optimal subset of variables to include. \n",
    "\n",
    "•Contributions [10]: By now it should be clear what each person has done/ will do next. Please include a section that describes what each team member worked on and contributed to the project and will contribute in the coming weeks. Each member of the team should have a fair share of the work for the development of a successful project. If a member has not contributed, that should be clearly written as well. \n",
    "\n",
    "- jacob mikrut - exploratory data analysis of variables related to the examination data table and answering research questions. \n",
    "\n",
    "-Brooke Bilton- conducted exploratory analysis on variables related to Lab Results as well as tested out a decision tree classifier\n",
    "\n",
    "John - Current work - Random Forest models, AdaBoost model, visualizations with demographic data\n",
    "    - Future Work - Feature selection, hyperparameter tuning, more model building (Gradient Boosting)\n",
    "\n",
    "James Formato - Current Work: built web scraper for variable explanations. Did exploratory analysis of dietary variables. Did PCA analysis of dietary features and of the entire dataset. \n",
    "              - Future Work: Looking to utilize kernal PCA or implement a ML model we have learned in class thus far.\n"
   ]
  },
  {
   "cell_type": "markdown",
   "metadata": {
    "id": "amjSzIdnC4dm"
   },
   "source": [
    "### Abstract"
   ]
  },
  {
   "cell_type": "markdown",
   "metadata": {},
   "source": [
    "This notebook explores the National Health and Nutrition Examination Survey (NHANES) data set from 2013-2014. Our goal is to correctly classify people with or without Diabetes using demographic, laboratory, physical exam, diet, and questionnaire attributes collected for 10,000 people. We use various visualizations to show differences between the positive (with Diabetes) and negative (without Diabetes) cases and apply Decision Tree, Random Forest, Support Vector Machines, and Gradient Boosting to classify individuals. Classification did not produce accurate results for any of the models which we believe is due to most independent variables having extremely little correlation to our target variable."
   ]
  },
  {
   "cell_type": "markdown",
   "metadata": {},
   "source": [
    "### Introduction"
   ]
  },
  {
   "cell_type": "markdown",
   "metadata": {},
   "source": [
    "Diabetes is becoming more and more prevalent in the U.S. There are many contributing factors that lead to Type II Diabetes which are mainly attributed to lifestyle choices. To reduce healthcare costs and improve quality of life for those with Diabetes, it is extremely important to get an early diagnosis and proper treatment. People with diabetes that go untreated experience a wide range of complications that are both expensive to treat and significantly impact quality of life. We explore the NHANES data set from 2013-2014 to find differences between people with and without diabetes and use those factors in various machine learning models to predict wheter or not someone has the disease."
   ]
  },
  {
   "cell_type": "code",
   "execution_count": 1,
   "metadata": {
    "colab": {
     "base_uri": "https://localhost:8080/"
    },
    "executionInfo": {
     "elapsed": 578,
     "status": "ok",
     "timestamp": 1604374668940,
     "user": {
      "displayName": "James Formato",
      "photoUrl": "",
      "userId": "11799095701675521078"
     },
     "user_tz": 360
    },
    "id": "6vawYm6rtYT1",
    "outputId": "97998176-744e-4a59-bf3a-7964973964a2"
   },
   "outputs": [
    {
     "name": "stdout",
     "output_type": "stream",
     "text": [
      "3.8.3 (default, Jul  2 2020, 11:26:31) \n",
      "[Clang 10.0.0 ]\n"
     ]
    }
   ],
   "source": [
    "import sys\n",
    "print(sys.version)"
   ]
  },
  {
   "cell_type": "code",
   "execution_count": 2,
   "metadata": {
    "id": "M__b1Ttht3R3"
   },
   "outputs": [],
   "source": [
    "from io import StringIO\n",
    "import requests\n",
    "import pandas as pd\n",
    "import numpy as np\n",
    "import seaborn as sns\n",
    "import matplotlib.pyplot as plt\n",
    "from sklearn.model_selection import train_test_split\n",
    "from sklearn.tree import DecisionTreeClassifier\n",
    "from sklearn import metrics\n",
    "from sklearn.decomposition import PCA\n",
    "from sklearn.preprocessing import StandardScaler"
   ]
  },
  {
   "cell_type": "code",
   "execution_count": 3,
   "metadata": {
    "colab": {
     "base_uri": "https://localhost:8080/"
    },
    "executionInfo": {
     "elapsed": 8397,
     "status": "ok",
     "timestamp": 1604374676777,
     "user": {
      "displayName": "James Formato",
      "photoUrl": "",
      "userId": "11799095701675521078"
     },
     "user_tz": 360
    },
    "id": "HmCPE30w5uv1",
    "outputId": "a377b86e-2717-47b9-f747-2083c3efa733"
   },
   "outputs": [
    {
     "name": "stderr",
     "output_type": "stream",
     "text": [
      "/Users/brookebilton/opt/anaconda3/lib/python3.8/site-packages/IPython/core/interactiveshell.py:3071: DtypeWarning: Columns (1664) have mixed types.Specify dtype option on import or set low_memory=False.\n",
      "  has_raised = await self.run_ast_nodes(code_ast.body, cell_name,\n"
     ]
    },
    {
     "name": "stdout",
     "output_type": "stream",
     "text": [
      "    SEQN  SDDSRVYR  RIDSTATR  RIAGENDR  RIDAGEYR  RIDAGEMN  RIDRETH1  \\\n",
      "0  73557         8         2         1        69       NaN         4   \n",
      "1  73558         8         2         1        54       NaN         3   \n",
      "2  73559         8         2         1        72       NaN         3   \n",
      "3  73560         8         2         1         9       NaN         3   \n",
      "4  73561         8         2         2        73       NaN         3   \n",
      "\n",
      "   RIDRETH3  RIDEXMON  RIDEXAGM  ...  WHD080U  WHD080L  WHD110  WHD120  \\\n",
      "0         4       1.0       NaN  ...      NaN     40.0   270.0   200.0   \n",
      "1         3       1.0       NaN  ...      NaN      NaN   240.0   250.0   \n",
      "2         3       2.0       NaN  ...      NaN      NaN   180.0   190.0   \n",
      "3         3       1.0     119.0  ...      NaN      NaN     NaN     NaN   \n",
      "4         3       1.0       NaN  ...      NaN      NaN   150.0   135.0   \n",
      "\n",
      "   WHD130  WHD140  WHQ150  WHQ030M  WHQ500  WHQ520  \n",
      "0    69.0   270.0    62.0      NaN     NaN     NaN  \n",
      "1    72.0   250.0    25.0      NaN     NaN     NaN  \n",
      "2    70.0   228.0    35.0      NaN     NaN     NaN  \n",
      "3     NaN     NaN     NaN      3.0     3.0     3.0  \n",
      "4    67.0   170.0    60.0      NaN     NaN     NaN  \n",
      "\n",
      "[5 rows x 1812 columns]\n"
     ]
    }
   ],
   "source": [
    "# getData\n",
    "\n",
    "orig_url = \"https://drive.google.com/uc?export=download&id=1XrPnbUNcv3kzRBDOpfV0kNTNnxEDHTTT\"\n",
    "url = requests.get(orig_url)\n",
    "csv_raw = StringIO(url.text)\n",
    "dfs = pd.read_csv(csv_raw)\n",
    "dfs = dfs.drop(columns=['Unnamed: 0'])\n",
    "print(dfs.head())"
   ]
  },
  {
   "cell_type": "code",
   "execution_count": null,
   "metadata": {
    "colab": {
     "base_uri": "https://localhost:8080/",
     "height": 195
    },
    "executionInfo": {
     "elapsed": 23063,
     "status": "ok",
     "timestamp": 1604374691453,
     "user": {
      "displayName": "James Formato",
      "photoUrl": "",
      "userId": "11799095701675521078"
     },
     "user_tz": 360
    },
    "id": "DnRkrXb7usex",
    "outputId": "56b55ddb-e4ca-4450-9253-e18a570d410c"
   },
   "outputs": [],
   "source": [
    "# Scraper\n",
    "\n",
    "links = [\"https://wwwn.cdc.gov/Nchs/Nhanes/Search/variablelist.aspx?Component=Questionnaire&CycleBeginYear=2013\",\n",
    "         \"https://wwwn.cdc.gov/Nchs/Nhanes/Search/variablelist.aspx?Component=Laboratory&CycleBeginYear=2013\",\n",
    "         \"https://wwwn.cdc.gov/Nchs/Nhanes/Search/variablelist.aspx?Component=Examination&CycleBeginYear=2013\",\n",
    "         \"https://wwwn.cdc.gov/Nchs/Nhanes/Search/variablelist.aspx?Component=Dietary&CycleBeginYear=2013\",\n",
    "         \"https://wwwn.cdc.gov/Nchs/Nhanes/Search/variablelist.aspx?Component=Demographics&CycleBeginYear=2013\"]\n",
    "\n",
    "dfCodes = pd.DataFrame()\n",
    "for link in links:\n",
    "  dfTemp = pd.read_html(link)\n",
    "  dfCodes = dfCodes.append(dfTemp)\n",
    "\n",
    "dfCodes.head()"
   ]
  },
  {
   "cell_type": "code",
   "execution_count": null,
   "metadata": {
    "id": "1w6vM2Px7aK2"
   },
   "outputs": [],
   "source": [
    "# DIQ010 - Doctor told you have diabetes\n",
    "\n",
    "# View Variable Names\n",
    "\n",
    "# for val in dfCodes['Variable Description'].unique():\n",
    "#   print(val)"
   ]
  },
  {
   "cell_type": "code",
   "execution_count": null,
   "metadata": {
    "id": "tDHg4Ltg9YfD"
   },
   "outputs": [],
   "source": [
    "\n",
    "# correlations = dfs.corr()"
   ]
  },
  {
   "cell_type": "code",
   "execution_count": null,
   "metadata": {
    "id": "PsxLEq30-Pky"
   },
   "outputs": [],
   "source": [
    "# sns.heatmap(correlations.dropna(thresh=2).iloc[0:20, 0:20])"
   ]
  },
  {
   "cell_type": "code",
   "execution_count": null,
   "metadata": {
    "id": "-XeNXsHADyQ2"
   },
   "outputs": [],
   "source": []
  },
  {
   "cell_type": "code",
   "execution_count": null,
   "metadata": {
    "id": "lroOIfgBBS8X"
   },
   "outputs": [],
   "source": [
    "# dupes = dfCodes.duplicated()\n",
    "\n",
    "# for line in dupes:\n",
    "#   print(line)"
   ]
  },
  {
   "cell_type": "code",
   "execution_count": null,
   "metadata": {
    "id": "YwUSi-1rIltm"
   },
   "outputs": [],
   "source": [
    "# Examination columns - jacob\n",
    "\n",
    "# BPXSY1 - Systolic: Blood pres (1st rdg) mm Hg\n",
    "# BPXDI1 - Diastolic: Blood pres (1st rdg) mm Hg\n",
    "# -blood pressure top and bottom 1st reading.\n",
    "# Count - 7172 vs 2641 missing.\n",
    "\n",
    "# BMXWT - Weight (kg)\n",
    "# Count - 9723 vs 90 missing.\n",
    "\n",
    "# BMXHT - Standing Height (cm)\n",
    "# Count - 9067 vs 746 missing.\n",
    "\n",
    "# BMXBMI - Body Mass Index (kg/m**2)\n",
    "# Count - 9055 vs 758 missing.\n",
    "\n",
    "# BMXWAIST - Waist Circumference (cm)\n",
    "# Range of values\n",
    "# Count - 8661 vs 1152 missing\n",
    "\n",
    "# OHAROCDT - Decayed teeth\n",
    "# Count - 2325 vs 7097 missing.\n",
    "# ** so fairly inconclusive. \n",
    "\n",
    "# OHAREC - Overall recommendation for care\n",
    "# Categorical:\n",
    "# See dentist immediately\n",
    "# See dentist in next 2 weeks\n",
    "# See dentist when you can\n",
    "# Continue your reg routine\n",
    "# Count 8938 vs 484 missing.\n",
    "\n",
    "# ^ OHAREC DOESN'T SEEM TO EXIST IN THE DF, I DOUBLE CHECKED THE COLUMN NAME."
   ]
  },
  {
   "cell_type": "code",
   "execution_count": null,
   "metadata": {
    "colab": {
     "base_uri": "https://localhost:8080/",
     "height": 529
    },
    "executionInfo": {
     "elapsed": 24811,
     "status": "ok",
     "timestamp": 1604374693225,
     "user": {
      "displayName": "James Formato",
      "photoUrl": "",
      "userId": "11799095701675521078"
     },
     "user_tz": 360
    },
    "id": "Tmwc9MWZuMrX",
    "outputId": "88cb662b-affc-4641-cab5-53e25cb24323"
   },
   "outputs": [],
   "source": [
    "# BPXSY1 - Systolic: Blood pres (1st rdg) mm Hg\n",
    "# BPXDI1 - Diastolic: Blood pres (1st rdg) mm Hg\n",
    "plot = sns.jointplot(data=dfs, x=\"BPXSY1\", y=\"BPXDI1\", hue=\"DIQ010\", palette=sns.color_palette(\"tab10\", 5))\n",
    "# indicate normal zones for blood pressure\n",
    "plot.ax_joint.axvline(x=90)\n",
    "plot.ax_joint.axvline(x=140)\n",
    "plot.ax_joint.axhline(y=60)\n",
    "plot.ax_joint.axhline(y=90)"
   ]
  },
  {
   "cell_type": "code",
   "execution_count": null,
   "metadata": {
    "colab": {
     "base_uri": "https://localhost:8080/",
     "height": 530
    },
    "executionInfo": {
     "elapsed": 25629,
     "status": "ok",
     "timestamp": 1604374694052,
     "user": {
      "displayName": "James Formato",
      "photoUrl": "",
      "userId": "11799095701675521078"
     },
     "user_tz": 360
    },
    "id": "qxKgV_oi9auH",
    "outputId": "41d56830-6c02-42aa-f085-46a501ac0d06"
   },
   "outputs": [],
   "source": [
    "# BMXWT - Weight (kg)\n",
    "sns.displot(data=dfs, x=\"BMXWT\",height=7, aspect=1.5, hue=\"DIQ010\", palette=sns.color_palette(\"tab10\", 5))"
   ]
  },
  {
   "cell_type": "code",
   "execution_count": null,
   "metadata": {
    "colab": {
     "base_uri": "https://localhost:8080/",
     "height": 530
    },
    "executionInfo": {
     "elapsed": 27287,
     "status": "ok",
     "timestamp": 1604374695720,
     "user": {
      "displayName": "James Formato",
      "photoUrl": "",
      "userId": "11799095701675521078"
     },
     "user_tz": 360
    },
    "id": "xf98fJbN9ljo",
    "outputId": "e76ef0dd-8ae6-4cbb-e2bf-cff977a45b33"
   },
   "outputs": [],
   "source": [
    "# BMXHT - Standing Height (cm)\n",
    "sns.displot(data=dfs, x=\"BMXHT\",height=7, aspect=1.5, hue=\"DIQ010\", palette=sns.color_palette(\"tab10\", 5))"
   ]
  },
  {
   "cell_type": "code",
   "execution_count": null,
   "metadata": {
    "colab": {
     "base_uri": "https://localhost:8080/",
     "height": 501
    },
    "executionInfo": {
     "elapsed": 27279,
     "status": "ok",
     "timestamp": 1604374695722,
     "user": {
      "displayName": "James Formato",
      "photoUrl": "",
      "userId": "11799095701675521078"
     },
     "user_tz": 360
    },
    "id": "FI3TCF6L9tFz",
    "outputId": "2eb6efeb-1405-4272-cec8-125b03dbf8a0"
   },
   "outputs": [],
   "source": [
    "# BMXBMI - Body Mass Index (kg/m**2)\n",
    "# below 18.5 – you're in the underweight range\n",
    "# between 18.5 and 24.9 – you're in the healthy weight range\n",
    "# between 25 and 29.9 – you're in the overweight range\n",
    "# between 30+ – you're in the obese range \n",
    "\n",
    "ranges = [0,18.5,25,30,10000]\n",
    "dfs.groupby(pd.cut(dfs.BMXBMI, ranges)).count()\n",
    "\n",
    "bmi_cat_counts = [1837,2811,2095,2312]\n",
    "data = {'underweight': 1837, 'normal': 2811, 'overweight': 2095, 'obese': 2312}\n",
    "names = list(data.keys())\n",
    "values = list(data.values())\n",
    "\n",
    "fig, axs = plt.subplots(figsize=(12, 8))\n",
    "axs.bar(names, values)"
   ]
  },
  {
   "cell_type": "code",
   "execution_count": null,
   "metadata": {
    "colab": {
     "base_uri": "https://localhost:8080/",
     "height": 530
    },
    "executionInfo": {
     "elapsed": 28329,
     "status": "ok",
     "timestamp": 1604374696781,
     "user": {
      "displayName": "James Formato",
      "photoUrl": "",
      "userId": "11799095701675521078"
     },
     "user_tz": 360
    },
    "id": "vMLNYBo9-dnF",
    "outputId": "ca2d7399-a8fa-4bc3-be83-71075dc7b201"
   },
   "outputs": [],
   "source": [
    "# BMXWAIST - Waist Circumference (cm)\n",
    "sns.displot(data=dfs, x=\"BMXWAIST\",height=7, aspect=1.5, hue=\"DIQ010\", palette=sns.color_palette(\"hls\", 5))\n",
    "\n",
    "# MAY BE ABLE TO GET RID OF THIS BC THERE IS NOT STANDARIZED WAIST SIZE FOR COMPARISON THOUGH CAN SHOW CORRELATION BETWEEN SIZE AND POSITIVE RATE"
   ]
  },
  {
   "cell_type": "code",
   "execution_count": null,
   "metadata": {
    "id": "nkcJtw4U-5sK"
   },
   "outputs": [],
   "source": []
  },
  {
   "cell_type": "code",
   "execution_count": null,
   "metadata": {
    "id": "pJJczkutavK_"
   },
   "outputs": [],
   "source": [
    "# Lab Columns - Brooke\n",
    "\n",
    "# LBDTCSI - Total Cholesterol( mmol/L)\n",
    "# 7624 vs 2189 missing\n",
    "# LBXTC - Total Cholesterol( mg/dL) - using this one\n",
    "# 7624 vs 2189 missing \n",
    "\n",
    "# LBDINSI - Insulin (pmol/L)\n",
    "# 3093 vs 6720 missing    Not sure if we should include?\n",
    "# LBXIN - Insulin (uU/mL) - using this one\n",
    "# 3093 vs 6720 missing \n",
    "\n",
    "# LBDSTPSI - Total protein (g/L)\n",
    "# 6544 vs 3269 missing\n",
    "\n",
    "# LBXSCA - Total calcium (mg/dL)\n",
    "# 6511 vs 3302 missing\n",
    "\n",
    "# LBXSKSI - Potassium (mmol/L)\n",
    "# 6552 vs 3261 missing\n",
    "\n",
    "# LBXRBCSI - Red blood cell count (million cells/uL)\n",
    "# 8544 vs 1269 missing \n",
    "\n",
    "# LBXWBCSI - White blood cell count (1000 cells/uL)\n",
    "# 8544 vs 1269 missing"
   ]
  },
  {
   "cell_type": "code",
   "execution_count": null,
   "metadata": {
    "colab": {
     "base_uri": "https://localhost:8080/",
     "height": 284
    },
    "executionInfo": {
     "elapsed": 28317,
     "status": "ok",
     "timestamp": 1604374696783,
     "user": {
      "displayName": "James Formato",
      "photoUrl": "",
      "userId": "11799095701675521078"
     },
     "user_tz": 360
    },
    "id": "6znaO0FQPajX",
    "outputId": "49c6caf0-e3fe-4bb0-8625-4a8620852b42"
   },
   "outputs": [],
   "source": [
    "ld = dfs[[\"LBXTC\",\"LBXIN\", \"LBDSTPSI\",\"LBXSCA\",\"LBXSKSI\",\"LBXRBCSI\",\"LBXWBCSI\",'DIQ010']]\n",
    "lab_data= ld.dropna()\n",
    "lab_data.describe()"
   ]
  },
  {
   "cell_type": "code",
   "execution_count": null,
   "metadata": {
    "colab": {
     "base_uri": "https://localhost:8080/",
     "height": 329
    },
    "executionInfo": {
     "elapsed": 29348,
     "status": "ok",
     "timestamp": 1604374697824,
     "user": {
      "displayName": "James Formato",
      "photoUrl": "",
      "userId": "11799095701675521078"
     },
     "user_tz": 360
    },
    "id": "v6ZLq5JhRw0y",
    "outputId": "1e8b1515-e3d4-4941-c821-04f2a27c8fbf"
   },
   "outputs": [],
   "source": [
    "lab_corr = lab_data.corr()\n",
    "sns.heatmap(lab_corr, annot=True)\n",
    "\n",
    "#Lab variables show low correlation, no multicollinearity "
   ]
  },
  {
   "cell_type": "code",
   "execution_count": null,
   "metadata": {
    "colab": {
     "base_uri": "https://localhost:8080/",
     "height": 297
    },
    "executionInfo": {
     "elapsed": 29341,
     "status": "ok",
     "timestamp": 1604374697826,
     "user": {
      "displayName": "James Formato",
      "photoUrl": "",
      "userId": "11799095701675521078"
     },
     "user_tz": 360
    },
    "id": "6EZcNkblUNWI",
    "outputId": "77423a92-c85f-41e9-ea5b-53bca79d727d"
   },
   "outputs": [],
   "source": [
    "#Prediction: People with high cholesterol are more likely to have diabetes.\n",
    "\n",
    "# Total Cholesteral:\n",
    "# Less than 200 = desireable\n",
    "# 200-239 = borderline high\n",
    "# 240 and higher = high\n",
    "\n",
    "#Roughly 25% are over 200\n",
    "\n",
    "sns.histplot(lab_data, x = \"LBXTC\", bins= 50, shrink=.5)"
   ]
  },
  {
   "cell_type": "markdown",
   "metadata": {
    "id": "YcDBP8QZmgP6"
   },
   "source": [
    "**DECISION TREE CLASSIFIER**"
   ]
  },
  {
   "cell_type": "code",
   "execution_count": 4,
   "metadata": {
    "id": "5ZxUL3yT_b0-"
   },
   "outputs": [],
   "source": [
    "\n",
    "df2 = dfs[['BPXSY1', 'BPXDI1', 'BMXBMI', 'BMXWAIST', 'LBXTC', 'LBDSTPSI', 'LBXSCA',\n",
    "       'LBXSKSI', 'LBXRBCSI', 'LBXWBCSI', 'DR1BWATZ', 'DR1TALCO', 'DR1TCAFF',\n",
    "       'DR1TCALC', 'DR1TCARB', 'DR1TCHOL', 'DR1TIRON', 'DR1TKCAL', 'DR1TMAGN',\n",
    "       'DR1TPOTA', 'DR1TPROT', 'DR1TSODI', 'DR1TSUGR', 'RIAGENDR', 'RIDAGEYR',\n",
    "       'RIDRETH3', 'DMDHHSIZ', 'INDHHIN2', 'INDFMPIR', 'DIQ010']]\n",
    "df2 = df2.dropna()\n",
    "df2 = df2.loc[df2['DIQ010'].isin([1.0, 2.0])]\n",
    "df2['DIQ010'] = df2['DIQ010'].map({1.0:1, 2.0:0})\n",
    "\n",
    "X = df2.drop(['DIQ010'], axis=1)\n",
    "y = df2['DIQ010']\n",
    "X_train, X_test, y_train, y_test = train_test_split(X, y, test_size=0.3, random_state=99, stratify=y)\n",
    "\n",
    "\n",
    "accuracy_train = []\n",
    "accuracy_test = []\n",
    "train_scores = []\n",
    "test_scores = []\n",
    "\n",
    "clf = DecisionTreeClassifier()\n",
    "clf.fit(X_train,y_train)\n",
    "\n",
    "accuracy_train = clf.predict(X_train) \n",
    "b = metrics.accuracy_score(y_true = y_train, y_pred = accuracy_train)\n",
    "train_scores.append(b)\n",
    "    \n",
    "accuracy_test = clf.predict(X_test) \n",
    "w = metrics.accuracy_score(y_true = y_test, y_pred = accuracy_test)\n",
    "test_scores.append(w)\n",
    "\n"
   ]
  },
  {
   "cell_type": "code",
   "execution_count": 5,
   "metadata": {
    "colab": {
     "base_uri": "https://localhost:8080/",
     "height": 298
    },
    "executionInfo": {
     "elapsed": 29481,
     "status": "ok",
     "timestamp": 1604374697980,
     "user": {
      "displayName": "James Formato",
      "photoUrl": "",
      "userId": "11799095701675521078"
     },
     "user_tz": 360
    },
    "id": "q2bCjKqoEHWG",
    "outputId": "9854e613-fdaa-43a6-9653-eadfccf43896"
   },
   "outputs": [
    {
     "data": {
      "text/plain": [
       "<matplotlib.axes._subplots.AxesSubplot at 0x12a3caa90>"
      ]
     },
     "execution_count": 5,
     "metadata": {},
     "output_type": "execute_result"
    },
    {
     "data": {
      "image/png": "[encoded data removed]",
      "text/plain": [
       "<Figure size 432x288 with 2 Axes>"
      ]
     },
     "metadata": {
      "needs_background": "light"
     },
     "output_type": "display_data"
    }
   ],
   "source": [
    "confusion_matrix = pd.crosstab(y_test, accuracy_test, rownames=['Actual'], colnames=['Predicted'])\n",
    "sns.heatmap(confusion_matrix, annot=True)"
   ]
  },
  {
   "cell_type": "code",
   "execution_count": 6,
   "metadata": {
    "colab": {
     "base_uri": "https://localhost:8080/"
    },
    "executionInfo": {
     "elapsed": 29655,
     "status": "ok",
     "timestamp": 1604374698163,
     "user": {
      "displayName": "James Formato",
      "photoUrl": "",
      "userId": "11799095701675521078"
     },
     "user_tz": 360
    },
    "id": "A8D0mXfhFXUQ",
    "outputId": "25647f9a-aa00-4cc6-9ec9-b751990023c4"
   },
   "outputs": [
    {
     "name": "stdout",
     "output_type": "stream",
     "text": [
      "              precision    recall  f1-score   support\n",
      "\n",
      "           0       0.93      0.91      0.92      1321\n",
      "           1       0.31      0.36      0.33       144\n",
      "\n",
      "    accuracy                           0.86      1465\n",
      "   macro avg       0.62      0.64      0.63      1465\n",
      "weighted avg       0.87      0.86      0.86      1465\n",
      "\n"
     ]
    }
   ],
   "source": [
    "print(metrics.classification_report(y_true=y_test, y_pred=accuracy_test))"
   ]
  },
  {
   "cell_type": "code",
   "execution_count": 7,
   "metadata": {},
   "outputs": [],
   "source": [
    "from sklearn.model_selection import GridSearchCV\n",
    "from sklearn.metrics import plot_confusion_matrix\n",
    "from sklearn.tree import DecisionTreeClassifier, plot_tree\n"
   ]
  },
  {
   "cell_type": "code",
   "execution_count": 8,
   "metadata": {},
   "outputs": [
    {
     "data": {
      "text/plain": [
       "{'criterion': 'gini', 'max_depth': 2, 'min_samples_split': 2}"
      ]
     },
     "execution_count": 8,
     "metadata": {},
     "output_type": "execute_result"
    }
   ],
   "source": [
    "params = {\"max_depth\": [2,3,5,6,7,8,9],\"min_samples_split\": [2, 3,5,7], \"criterion\": ['gini','entropy'], }\n",
    "Model1 = GridSearchCV(clf, params, cv = 5)\n",
    "Model1.fit(X_train, y_train.values.ravel())\n",
    "Model1.best_params_\n"
   ]
  },
  {
   "cell_type": "code",
   "execution_count": 9,
   "metadata": {},
   "outputs": [],
   "source": [
    "accuracy_train = []\n",
    "accuracy_test = []\n",
    "train_scores = []\n",
    "test_scores = []\n",
    "\n",
    "GSclf = DecisionTreeClassifier(max_depth= 2, min_samples_split= 2)\n",
    "GSclf.fit(X_train,y_train)\n",
    "\n",
    "accuracy_train = GSclf.predict(X_train) \n",
    "b = metrics.accuracy_score(y_true = y_train, y_pred = accuracy_train)\n",
    "train_scores.append(b)\n",
    "    \n",
    "accuracy_test = GSclf.predict(X_test) \n",
    "w = metrics.accuracy_score(y_true = y_test, y_pred = accuracy_test)\n",
    "test_scores.append(w)\n"
   ]
  },
  {
   "cell_type": "code",
   "execution_count": 13,
   "metadata": {},
   "outputs": [
    {
     "name": "stdout",
     "output_type": "stream",
     "text": [
      "              precision    recall  f1-score   support\n",
      "\n",
      "           0       0.90      1.00      0.95      1321\n",
      "           1       0.00      0.00      0.00       144\n",
      "\n",
      "    accuracy                           0.90      1465\n",
      "   macro avg       0.45      0.50      0.47      1465\n",
      "weighted avg       0.81      0.90      0.86      1465\n",
      "\n"
     ]
    },
    {
     "name": "stderr",
     "output_type": "stream",
     "text": [
      "/Users/brookebilton/opt/anaconda3/lib/python3.8/site-packages/sklearn/metrics/_classification.py:1221: UndefinedMetricWarning: Precision and F-score are ill-defined and being set to 0.0 in labels with no predicted samples. Use `zero_division` parameter to control this behavior.\n",
      "  _warn_prf(average, modifier, msg_start, len(result))\n"
     ]
    }
   ],
   "source": [
    "print(metrics.classification_report(y_true=y_test, y_pred=accuracy_test))\n",
    "\n",
    "#Model is not predicting any true postives after doing a grid search for best parameters. Other models should be explored."
   ]
  },
  {
   "cell_type": "code",
   "execution_count": 14,
   "metadata": {},
   "outputs": [
    {
     "data": {
      "image/png": "[encoded data removed]",
      "text/plain": [
       "<Figure size 432x288 with 2 Axes>"
      ]
     },
     "metadata": {
      "needs_background": "light"
     },
     "output_type": "display_data"
    }
   ],
   "source": [
    "decisiontree_matrix = plot_confusion_matrix(GSclf, X_test, y_test)\n"
   ]
  },
  {
   "cell_type": "code",
   "execution_count": null,
   "metadata": {
    "colab": {
     "base_uri": "https://localhost:8080/",
     "height": 70
    },
    "executionInfo": {
     "elapsed": 29646,
     "status": "ok",
     "timestamp": 1604374698164,
     "user": {
      "displayName": "James Formato",
      "photoUrl": "",
      "userId": "11799095701675521078"
     },
     "user_tz": 360
    },
    "id": "BOXswj3edbx6",
    "outputId": "f567c854-55a7-4615-87e5-8d11019d1dd1"
   },
   "outputs": [],
   "source": [
    "''' \n",
    "Dietary Columns - James\n",
    "\n",
    "DBD100 - How often add ordinary salt to your food at the table?\n",
    "DR1BWATZ - Total bottled water drank yesterday (gm)\n",
    "DR1TALCO - Alcohol (gm)\n",
    "DR1TCAFF - Caffeine (mg)\n",
    "DR1TCALC - Calcium (mg)\n",
    "DR1TCARB - Carbohydrate (gm)\n",
    "DR1TCHOL - Cholesterol (mg)\n",
    "DR1TIRON - Iron (mg)\n",
    "DR1TKCAL - Energy (kcal)\n",
    "DR1TMAGN - Magnesium (mg)\n",
    "DR1TPOTA - Potassium (mg)\n",
    "DR1TPROT - Protein (gm)\n",
    "DR1TSODI - Sodium (mg)\n",
    "DR1TSUGR - Total sugars (gm)\n",
    "'''"
   ]
  },
  {
   "cell_type": "code",
   "execution_count": null,
   "metadata": {
    "colab": {
     "base_uri": "https://localhost:8080/",
     "height": 334
    },
    "executionInfo": {
     "elapsed": 30015,
     "status": "ok",
     "timestamp": 1604374698542,
     "user": {
      "displayName": "James Formato",
      "photoUrl": "",
      "userId": "11799095701675521078"
     },
     "user_tz": 360
    },
    "id": "lAt-_k0h5Lzl",
    "outputId": "0fd362fd-7bac-4a98-a612-39cbdefae571"
   },
   "outputs": [],
   "source": [
    "dfDiet = dfs[['DBD100', 'DR1BWATZ', 'DR1TALCO', 'DR1TCAFF', 'DR1TCALC', 'DR1TCARB', 'DR1TCHOL', 'DR1TIRON', 'DR1TKCAL', 'DR1TMAGN',\n",
    "              'DR1TPOTA', 'DR1TPROT', 'DR1TSODI', 'DR1TSUGR']]\n",
    "sns.heatmap(dfDiet.corr())"
   ]
  },
  {
   "cell_type": "code",
   "execution_count": null,
   "metadata": {
    "colab": {
     "base_uri": "https://localhost:8080/",
     "height": 612
    },
    "executionInfo": {
     "elapsed": 30188,
     "status": "ok",
     "timestamp": 1604374698725,
     "user": {
      "displayName": "James Formato",
      "photoUrl": "",
      "userId": "11799095701675521078"
     },
     "user_tz": 360
    },
    "id": "bSuDwPlx8SXt",
    "outputId": "755d8530-dc88-46c8-a55b-e206f18dbed3"
   },
   "outputs": [],
   "source": [
    "X = dfDiet.dropna()\n",
    "scaler = StandardScaler()\n",
    "XNorm = scaler.fit(X).transform(X)\n",
    "\n",
    "pca = PCA()\n",
    "pca.fit(XNorm)\n",
    "print(\"Variance Explained per Component\\n\")\n",
    "print(\"Component\\tNon-Explained Variance\")\n",
    "for i, val in enumerate(pca.explained_variance_ratio_.round(4)):\n",
    "    print(\"PC{}:\\t\\t {}\".format(i+1, val))\n",
    "\n",
    "plt.plot(pca.explained_variance_ratio_)\n",
    "plt.ylabel(\"Variance Explained\")\n",
    "plt.xlabel(\"Principal Components\")\n",
    "plt.xticks(range(14))\n",
    "plt.title(\"Scree Plot of Dietary Columns\")"
   ]
  },
  {
   "cell_type": "code",
   "execution_count": null,
   "metadata": {
    "colab": {
     "base_uri": "https://localhost:8080/",
     "height": 901
    },
    "executionInfo": {
     "elapsed": 30583,
     "status": "ok",
     "timestamp": 1604374699130,
     "user": {
      "displayName": "James Formato",
      "photoUrl": "",
      "userId": "11799095701675521078"
     },
     "user_tz": 360
    },
    "id": "GSD0iMKXAqDq",
    "outputId": "40ae24ba-63a8-4e4a-ce1c-6f5ede80d783"
   },
   "outputs": [],
   "source": [
    "df2 = dfs[['BPXSY1', 'BPXDI1', 'BMXBMI', 'BMXWAIST', 'LBXTC', 'LBDSTPSI', 'LBXSCA',\n",
    "       'LBXSKSI', 'LBXRBCSI', 'LBXWBCSI', 'DR1BWATZ', 'DR1TALCO', 'DR1TCAFF',\n",
    "       'DR1TCALC', 'DR1TCARB', 'DR1TCHOL', 'DR1TIRON', 'DR1TKCAL', 'DR1TMAGN',\n",
    "       'DR1TPOTA', 'DR1TPROT', 'DR1TSODI', 'DR1TSUGR', 'RIAGENDR', 'RIDAGEYR',\n",
    "       'RIDRETH3', 'DMDHHSIZ', 'INDHHIN2', 'INDFMPIR', 'DIQ010']]\n",
    "\n",
    "X = df2.dropna()\n",
    "scaler = StandardScaler()\n",
    "XNorm = scaler.fit(X).transform(X)\n",
    "\n",
    "pca = PCA()\n",
    "pca.fit(XNorm)\n",
    "print(\"Variance Explained per Component\\n\")\n",
    "print(\"Component\\tNon-Explained Variance\")\n",
    "for i, val in enumerate(pca.explained_variance_ratio_.round(4)):\n",
    "    print(\"PC{}:\\t\\t {}\".format(i+1, val))\n",
    "\n",
    "plt.plot(pca.explained_variance_ratio_)\n",
    "plt.ylabel(\"Variance Explained\")\n",
    "plt.xlabel(\"Principal Components\")\n",
    "plt.xticks(range(30), rotation=55)\n",
    "plt.title(\"Scree Plot of All Possible Features\")"
   ]
  },
  {
   "cell_type": "code",
   "execution_count": null,
   "metadata": {
    "colab": {
     "base_uri": "https://localhost:8080/",
     "height": 70
    },
    "executionInfo": {
     "elapsed": 30573,
     "status": "ok",
     "timestamp": 1604374699131,
     "user": {
      "displayName": "James Formato",
      "photoUrl": "",
      "userId": "11799095701675521078"
     },
     "user_tz": 360
    },
    "id": "KgsC7-iX4EC0",
    "outputId": "81f548ef-d35d-41af-a9dc-082584bbb213"
   },
   "outputs": [],
   "source": [
    "'''\n",
    "Demographics - John\n",
    "RIAGENDR - Gender\n",
    "RIDAGEYR - Age in years at screening\n",
    "RIDRETH3 - Race/Hispanic origin w/ NH Asian\n",
    "DMDEDUC3 - Education level - Children/Youth 6-19\n",
    "DMDEDUC2 - Education level - Adults 20+\n",
    "DMDMARTL - Marital status\n",
    "DMDHHSIZ - Total number of people in the Household\n",
    "INDHHIN2 - Annual household income\n",
    "INDFMPIR - Ratio of family income to poverty\n",
    "'''"
   ]
  },
  {
   "cell_type": "code",
   "execution_count": null,
   "metadata": {
    "colab": {
     "base_uri": "https://localhost:8080/",
     "height": 313
    },
    "executionInfo": {
     "elapsed": 30861,
     "status": "ok",
     "timestamp": 1604374699429,
     "user": {
      "displayName": "James Formato",
      "photoUrl": "",
      "userId": "11799095701675521078"
     },
     "user_tz": 360
    },
    "id": "RWlca6nqSKkp",
    "outputId": "9a31e498-8647-4853-c575-0b418fcdb8da"
   },
   "outputs": [],
   "source": [
    "fig, ax = plt.subplots()\n",
    "ax.hist(dfs[dfs['INDFMPIR'].notna()]['INDFMPIR'], bins=np.arange(0, 5.1, 0.1), edgecolor = 'black')\n",
    "ax.set_xticks(np.arange(0, 5.25, 0.5))\n",
    "ax.set_xlabel('Ratio of family Income to Poverty')\n",
    "ax.set_ylabel('Count')\n",
    "ax.set_title('Histogram of Family Income to Poverty Income Ratio')\n",
    "# All values above 5 coded as 5"
   ]
  },
  {
   "cell_type": "code",
   "execution_count": null,
   "metadata": {
    "colab": {
     "base_uri": "https://localhost:8080/",
     "height": 313
    },
    "executionInfo": {
     "elapsed": 31545,
     "status": "ok",
     "timestamp": 1604374700122,
     "user": {
      "displayName": "James Formato",
      "photoUrl": "",
      "userId": "11799095701675521078"
     },
     "user_tz": 360
    },
    "id": "h4r3dIRpBcO8",
    "outputId": "b865829f-c7d4-49ce-b607-f657965ffc35"
   },
   "outputs": [],
   "source": [
    "fig, ax = plt.subplots()\n",
    "ax.barh(y=['Some College', 'College Grad', 'HS Grad/GED', '9-12th - No Dip', '<9th'],\n",
    "       width=[1722, 1400, 1257, 765, 439])\n",
    "ax.set_xlabel('Count')\n",
    "ax.set_ylabel('Education Level')\n",
    "ax.set_title('Distribution of Max. Education Level')"
   ]
  },
  {
   "cell_type": "code",
   "execution_count": null,
   "metadata": {
    "colab": {
     "base_uri": "https://localhost:8080/",
     "height": 313
    },
    "executionInfo": {
     "elapsed": 31700,
     "status": "ok",
     "timestamp": 1604374700287,
     "user": {
      "displayName": "James Formato",
      "photoUrl": "",
      "userId": "11799095701675521078"
     },
     "user_tz": 360
    },
    "id": "A5aAwnjCIcjE",
    "outputId": "9a2077d8-f4b3-4bcb-a8dd-8fe5167b6e87"
   },
   "outputs": [],
   "source": [
    "fig, ax = plt.subplots()\n",
    "ax.bar(x=dfs['DMDHHSIZ'].value_counts().index, height=dfs['DMDHHSIZ'].value_counts())\n",
    "ax.set_title('Bar Chart of People in Household')\n",
    "ax.set_xlabel('Number of People in Household')\n",
    "ax.set_ylabel('Count')\n",
    "# 7 or more people coded as 7"
   ]
  },
  {
   "cell_type": "code",
   "execution_count": null,
   "metadata": {
    "colab": {
     "base_uri": "https://localhost:8080/",
     "height": 313
    },
    "executionInfo": {
     "elapsed": 31692,
     "status": "ok",
     "timestamp": 1604374700288,
     "user": {
      "displayName": "James Formato",
      "photoUrl": "",
      "userId": "11799095701675521078"
     },
     "user_tz": 360
    },
    "id": "8wVr4g_K-HMl",
    "outputId": "670f3ea6-fedf-4b30-c986-7611ea89abc1"
   },
   "outputs": [],
   "source": [
    "fig, ax = plt.subplots()\n",
    "ax.bar(x=['White', 'Black', 'Mexican', 'Asian', 'Other Hispanic', 'Other'], height=dfs['RIDRETH3'].value_counts())\n",
    "ax.set_title('Bar Chart of Race/Ethnicity')\n",
    "ax.set_xlabel('Race/Ethnicity')\n",
    "ax.set_ylabel('Count')"
   ]
  },
  {
   "cell_type": "code",
   "execution_count": null,
   "metadata": {
    "colab": {
     "base_uri": "https://localhost:8080/",
     "height": 313
    },
    "executionInfo": {
     "elapsed": 32034,
     "status": "ok",
     "timestamp": 1604374700642,
     "user": {
      "displayName": "James Formato",
      "photoUrl": "",
      "userId": "11799095701675521078"
     },
     "user_tz": 360
    },
    "id": "SaN-oNmgwap1",
    "outputId": "7936a1b0-2454-40f3-963a-86480fd741b6"
   },
   "outputs": [],
   "source": [
    "fig, ax = plt.subplots()\n",
    "ax.hist(dfs['RIDAGEYR'], bins=range(0, 81, 1), edgecolor = 'black')\n",
    "ax.set_title('Age Histogram')\n",
    "ax.set_xlabel('Age')\n",
    "ax.set_ylabel('Count')\n",
    "# Everyone => 80 is marked as 80"
   ]
  },
  {
   "cell_type": "code",
   "execution_count": null,
   "metadata": {},
   "outputs": [],
   "source": [
    "demo2 = dfs[['DIQ010', 'RIAGENDR', 'RIDAGEYR', 'RIDRETH3', 'DMDEDUC3', 'DMDEDUC2', 'DMDMARTL',\n",
    "              'DMDHHSIZ', 'INDHHIN2', 'INDFMPIR']]\n",
    "fig, ax = plt.subplots(figsize=(8, 5))\n",
    "sns.heatmap(demo2.corr(), annot=True, cmap='coolwarm', center=0)\n",
    "plt.title('Demographic Correlation Matrix')"
   ]
  },
  {
   "cell_type": "code",
   "execution_count": null,
   "metadata": {
    "id": "qY8ub-LDK9Jx"
   },
   "outputs": [],
   "source": [
    "df2 = dfs[['BPXSY1', 'BPXDI1', 'BMXBMI', 'BMXWAIST', 'LBXTC', 'LBDSTPSI', 'LBXSCA',\n",
    "       'LBXSKSI', 'LBXRBCSI', 'LBXWBCSI', 'DR1BWATZ', 'DR1TALCO', 'DR1TCAFF',\n",
    "       'DR1TCALC', 'DR1TCARB', 'DR1TCHOL', 'DR1TIRON', 'DR1TKCAL', 'DR1TMAGN',\n",
    "       'DR1TPOTA', 'DR1TPROT', 'DR1TSODI', 'DR1TSUGR', 'RIAGENDR', 'RIDAGEYR',\n",
    "       'RIDRETH3', 'DMDHHSIZ', 'INDHHIN2', 'INDFMPIR', 'DIQ010']]\n",
    "df2 = df2.dropna()\n",
    "df2 = df2.loc[df2['DIQ010'].isin([1.0, 2.0])]\n",
    "df2['DIQ010'] = df2['DIQ010'].map({1.0:1, 2.0:0})"
   ]
  },
  {
   "cell_type": "code",
   "execution_count": null,
   "metadata": {
    "id": "iYmqicQyNaSz"
   },
   "outputs": [],
   "source": [
    "from sklearn.ensemble import RandomForestClassifier, AdaBoostClassifier\n",
    "from sklearn.model_selection import GridSearchCV"
   ]
  },
  {
   "cell_type": "code",
   "execution_count": null,
   "metadata": {
    "id": "gsqjr8pRNddk"
   },
   "outputs": [],
   "source": [
    "# Using all columns in df2\n",
    "X = df2.drop(['DIQ010'], axis=1)\n",
    "y = df2['DIQ010']\n",
    "X_train, X_test, y_train, y_test = train_test_split(X, y, test_size=0.3, random_state=99, stratify=y)"
   ]
  },
  {
   "cell_type": "markdown",
   "metadata": {
    "id": "XHHbuLy7aaJZ"
   },
   "source": [
    "#### Grid Search for Random Forest"
   ]
  },
  {
   "cell_type": "code",
   "execution_count": null,
   "metadata": {
    "id": "fwic3weyNuFF"
   },
   "outputs": [],
   "source": [
    "params = {'n_estimators':[100, 500, 1000], 'max_depth':[2, 5, 10, None], 'min_samples_split':[2, 5, 10, 20]}\n",
    "rfc = RandomForestClassifier(n_jobs=4)\n",
    "clf = GridSearchCV(rfc, params).fit(X_train, y_train)"
   ]
  },
  {
   "cell_type": "code",
   "execution_count": null,
   "metadata": {
    "colab": {
     "base_uri": "https://localhost:8080/"
    },
    "executionInfo": {
     "elapsed": 727733,
     "status": "ok",
     "timestamp": 1604375396369,
     "user": {
      "displayName": "James Formato",
      "photoUrl": "",
      "userId": "11799095701675521078"
     },
     "user_tz": 360
    },
    "id": "kDBapDBcN2IK",
    "outputId": "cf1fa988-3a95-4e53-e26d-762da13a4b26"
   },
   "outputs": [],
   "source": [
    "clf.best_params_ # max_depth = None (default value) means trees are built until each leaf is pure or min_sample_split is reached"
   ]
  },
  {
   "cell_type": "code",
   "execution_count": null,
   "metadata": {
    "colab": {
     "base_uri": "https://localhost:8080/"
    },
    "executionInfo": {
     "elapsed": 727726,
     "status": "ok",
     "timestamp": 1604375396371,
     "user": {
      "displayName": "James Formato",
      "photoUrl": "",
      "userId": "11799095701675521078"
     },
     "user_tz": 360
    },
    "id": "9daxssC3Pdqr",
    "outputId": "bde4ff08-916a-4517-f238-de7a081d7da3"
   },
   "outputs": [],
   "source": [
    "testPred = clf.predict(X_test)\n",
    "trainPred = clf.predict(X_train)\n",
    "metrics.accuracy_score(y_test, testPred), metrics.accuracy_score(y_train, trainPred) # test accuracy, train accuracy"
   ]
  },
  {
   "cell_type": "code",
   "execution_count": null,
   "metadata": {
    "colab": {
     "base_uri": "https://localhost:8080/"
    },
    "executionInfo": {
     "elapsed": 727719,
     "status": "ok",
     "timestamp": 1604375396373,
     "user": {
      "displayName": "James Formato",
      "photoUrl": "",
      "userId": "11799095701675521078"
     },
     "user_tz": 360
    },
    "id": "LAVdJcNEPnn_",
    "outputId": "a89f7334-89d8-48a0-fe75-26cccb825018"
   },
   "outputs": [],
   "source": [
    "metrics.matthews_corrcoef(y_test, testPred) # range between -1 and 1 for binary classifications,\n",
    " # 1 = perfect prediction, -1 = perfect anti-prediction, 0 = model is just as good as random guess while accounting for class imbablance\n",
    " # This model is only slightly better than random guessing even though it has an accuracy score of 90%"
   ]
  },
  {
   "cell_type": "code",
   "execution_count": null,
   "metadata": {
    "colab": {
     "base_uri": "https://localhost:8080/"
    },
    "executionInfo": {
     "elapsed": 727710,
     "status": "ok",
     "timestamp": 1604375396374,
     "user": {
      "displayName": "James Formato",
      "photoUrl": "",
      "userId": "11799095701675521078"
     },
     "user_tz": 360
    },
    "id": "I8JSL8GcQ7Zj",
    "outputId": "19d98b58-eb76-4acd-97a0-58a3da4fc1d1"
   },
   "outputs": [],
   "source": [
    "tn, fp, fn, tp = metrics.confusion_matrix(y_test, testPred).ravel()\n",
    "tn, fp, fn, tp # Very poor at classifying positive cases with 132 false negatives and 10 true positives"
   ]
  },
  {
   "cell_type": "markdown",
   "metadata": {},
   "source": [
    "#### Testing different numbers of estimators for RF using Recall"
   ]
  },
  {
   "cell_type": "code",
   "execution_count": null,
   "metadata": {},
   "outputs": [],
   "source": [
    "recallTrain = []\n",
    "recallTest = []\n",
    "trees = range(100, 2100, 100)\n",
    "for i in trees:\n",
    "    clf2 = RandomForestClassifier(n_estimators=i, n_jobs=8).fit(X_train, y_train)\n",
    "    recallTrain.append(metrics.recall_score(y_train, clf2.predict(X_train)))\n",
    "    recallTest.append(metrics.recall_score(y_test, clf2.predict(X_test)))"
   ]
  },
  {
   "cell_type": "code",
   "execution_count": null,
   "metadata": {},
   "outputs": [],
   "source": [
    "plt.plot(trees, recallTrain, label='Train')\n",
    "plt.plot(trees, recallTest, label='Test')\n",
    "plt.legend()\n",
    "plt.title('Estimators')"
   ]
  },
  {
   "cell_type": "markdown",
   "metadata": {},
   "source": [
    "#### Testing different max. depth for RF using Recall"
   ]
  },
  {
   "cell_type": "code",
   "execution_count": null,
   "metadata": {},
   "outputs": [],
   "source": [
    "recallTrain2 = []\n",
    "recallTest2 = []\n",
    "depth = range(2, 25)\n",
    "for i in depth:\n",
    "    clf2 = RandomForestClassifier(max_depth=i, n_jobs=8).fit(X_train, y_train)\n",
    "    recallTrain2.append(metrics.recall_score(y_train, clf2.predict(X_train)))\n",
    "    recallTest2.append(metrics.recall_score(y_test, clf2.predict(X_test)))"
   ]
  },
  {
   "cell_type": "code",
   "execution_count": null,
   "metadata": {},
   "outputs": [],
   "source": [
    "plt.plot(depth, recallTrain2, label='Train')\n",
    "plt.plot(depth, recallTest2, label='Test')\n",
    "plt.title('Max Depth')\n",
    "plt.xticks(depth)\n",
    "plt.legend()"
   ]
  },
  {
   "cell_type": "markdown",
   "metadata": {},
   "source": [
    "#### Testing different min. sample split for RF using recall"
   ]
  },
  {
   "cell_type": "code",
   "execution_count": null,
   "metadata": {},
   "outputs": [],
   "source": [
    "recallTrain3 = []\n",
    "recallTest3 = []\n",
    "split = range(2, 42, 2)\n",
    "for i in split:\n",
    "    clf2 = RandomForestClassifier(min_samples_split=i, n_jobs=8).fit(X_train, y_train)\n",
    "    recallTrain3.append(metrics.recall_score(y_train, clf2.predict(X_train)))\n",
    "    recallTest3.append(metrics.recall_score(y_test, clf2.predict(X_test)))"
   ]
  },
  {
   "cell_type": "code",
   "execution_count": null,
   "metadata": {},
   "outputs": [],
   "source": [
    "plt.plot(split, recallTrain3, label='Train')\n",
    "plt.plot(split, recallTest3, label='Test')\n",
    "plt.title('Min Samples Split')\n",
    "plt.xticks(split)\n",
    "plt.legend()"
   ]
  },
  {
   "cell_type": "markdown",
   "metadata": {},
   "source": [
    "#### Using columns that have 'high' correlation to DIQ010"
   ]
  },
  {
   "cell_type": "code",
   "execution_count": null,
   "metadata": {
    "colab": {
     "base_uri": "https://localhost:8080/"
    },
    "executionInfo": {
     "elapsed": 32022,
     "status": "ok",
     "timestamp": 1604374700643,
     "user": {
      "displayName": "James Formato",
      "photoUrl": "",
      "userId": "11799095701675521078"
     },
     "user_tz": 360
    },
    "id": "gj7GkZgcFwor",
    "outputId": "fb4333f6-ac1e-4b17-fbab-ac1c496947ff"
   },
   "outputs": [],
   "source": [
    "# Finds correlations with DIQ010 that are greater than threshhold value\n",
    "corr = df2.corr()\n",
    "high = ['DIQ010']\n",
    "thresh = 0.075 # correlation threshhold\n",
    "for i in range(corr.shape[0]):\n",
    "    if (corr['DIQ010'][i] > thresh and corr['DIQ010'][i] != 1) or\\\n",
    "        (corr['DIQ010'][i] < -thresh and corr['DIQ010'][i] != 1):\n",
    "        high.append(corr.index[i])\n",
    "high"
   ]
  },
  {
   "cell_type": "code",
   "execution_count": null,
   "metadata": {
    "id": "dUVOIgTaSSQ6"
   },
   "outputs": [],
   "source": [
    "smalldf = df2[high]\n",
    "X = smalldf.drop(['DIQ010'], axis=1)\n",
    "y = smalldf['DIQ010']\n",
    "X_train, X_test, y_train, y_test = train_test_split(X, y, test_size=0.2, random_state=99, stratify=y)"
   ]
  },
  {
   "cell_type": "markdown",
   "metadata": {
    "id": "Yu1jRIX2Z0Zc"
   },
   "source": [
    "##### RF w/ 'high' correlation vars"
   ]
  },
  {
   "cell_type": "code",
   "execution_count": null,
   "metadata": {
    "id": "rtozv7AISlyt"
   },
   "outputs": [],
   "source": [
    "smlClf = RandomForestClassifier(min_samples_split=5, n_estimators=100).fit(X_train, y_train) # usings params from above"
   ]
  },
  {
   "cell_type": "code",
   "execution_count": null,
   "metadata": {
    "colab": {
     "base_uri": "https://localhost:8080/"
    },
    "executionInfo": {
     "elapsed": 728159,
     "status": "ok",
     "timestamp": 1604375396836,
     "user": {
      "displayName": "James Formato",
      "photoUrl": "",
      "userId": "11799095701675521078"
     },
     "user_tz": 360
    },
    "id": "CuyS2FenS-2L",
    "outputId": "f59b5536-17d9-40ed-f634-83dbeb6af7eb"
   },
   "outputs": [],
   "source": [
    "testPred = smlClf.predict(X_test)\n",
    "trainPred = smlClf.predict(X_train)\n",
    "metrics.accuracy_score(y_test, testPred), metrics.accuracy_score(y_train, trainPred) # test accuracy, train accuracy"
   ]
  },
  {
   "cell_type": "code",
   "execution_count": null,
   "metadata": {
    "colab": {
     "base_uri": "https://localhost:8080/"
    },
    "executionInfo": {
     "elapsed": 728151,
     "status": "ok",
     "timestamp": 1604375396840,
     "user": {
      "displayName": "James Formato",
      "photoUrl": "",
      "userId": "11799095701675521078"
     },
     "user_tz": 360
    },
    "id": "dARrq6XeTKs6",
    "outputId": "dbace411-2230-4068-e33b-c8485bb53b2a"
   },
   "outputs": [],
   "source": [
    "metrics.matthews_corrcoef(y_test, testPred) # Better than previous model but still only moderately better than random guess"
   ]
  },
  {
   "cell_type": "code",
   "execution_count": null,
   "metadata": {
    "colab": {
     "base_uri": "https://localhost:8080/"
    },
    "executionInfo": {
     "elapsed": 728140,
     "status": "ok",
     "timestamp": 1604375396842,
     "user": {
      "displayName": "James Formato",
      "photoUrl": "",
      "userId": "11799095701675521078"
     },
     "user_tz": 360
    },
    "id": "IzBvlcxvTNpJ",
    "outputId": "5d636a9a-393d-4ac8-97da-c29e87a03f53"
   },
   "outputs": [],
   "source": [
    "tn, fp, fn, tp = metrics.confusion_matrix(y_test, testPred).ravel()\n",
    "tn, fp, fn, tp # Still very poor at classifying positives cases"
   ]
  },
  {
   "cell_type": "markdown",
   "metadata": {
    "id": "1AajTy3JaBHC"
   },
   "source": [
    "**AdaBoost w/ subset of variables**"
   ]
  },
  {
   "cell_type": "code",
   "execution_count": null,
   "metadata": {
    "id": "C4A17z60Udh1"
   },
   "outputs": [],
   "source": [
    "params = {'n_estimators':[50, 100, 500, 1000], 'learning_rate':[0.001, 0.005, 0.01, 0.05, 0.1]}\n",
    "ada = AdaBoostClassifier()\n",
    "adaClf = GridSearchCV(ada, params).fit(X_train, y_train)"
   ]
  },
  {
   "cell_type": "code",
   "execution_count": null,
   "metadata": {
    "colab": {
     "base_uri": "https://localhost:8080/"
    },
    "executionInfo": {
     "elapsed": 932077,
     "status": "ok",
     "timestamp": 1604375600794,
     "user": {
      "displayName": "James Formato",
      "photoUrl": "",
      "userId": "11799095701675521078"
     },
     "user_tz": 360
    },
    "id": "29yxSSE8UoDl",
    "outputId": "5724da6d-3f61-4c6a-bdd5-57fc81724920"
   },
   "outputs": [],
   "source": [
    "adaClf.best_params_"
   ]
  },
  {
   "cell_type": "code",
   "execution_count": null,
   "metadata": {
    "colab": {
     "base_uri": "https://localhost:8080/"
    },
    "executionInfo": {
     "elapsed": 932069,
     "status": "ok",
     "timestamp": 1604375600796,
     "user": {
      "displayName": "James Formato",
      "photoUrl": "",
      "userId": "11799095701675521078"
     },
     "user_tz": 360
    },
    "id": "ylJ6YeokUk-c",
    "outputId": "14f88018-6f93-4407-88b4-11b5f916fcc6"
   },
   "outputs": [],
   "source": [
    "testPred = adaClf.predict(X_test)\n",
    "trainPred = adaClf.predict(X_train)\n",
    "metrics.accuracy_score(y_test, testPred), metrics.accuracy_score(y_train, trainPred)"
   ]
  },
  {
   "cell_type": "code",
   "execution_count": null,
   "metadata": {
    "colab": {
     "base_uri": "https://localhost:8080/"
    },
    "executionInfo": {
     "elapsed": 932061,
     "status": "ok",
     "timestamp": 1604375600797,
     "user": {
      "displayName": "James Formato",
      "photoUrl": "",
      "userId": "11799095701675521078"
     },
     "user_tz": 360
    },
    "id": "DnmcwQL2UqnM",
    "outputId": "ec99910b-04a0-4a72-a37e-9a2f312aeb52"
   },
   "outputs": [],
   "source": [
    "tn, fp, fn, tp = metrics.confusion_matrix(y_test, testPred).ravel()\n",
    "tn, fp, fn, tp # model classified everything as negative so it is effectively useless"
   ]
  },
  {
   "cell_type": "markdown",
   "metadata": {},
   "source": [
    "#### AdaBoost with all vars"
   ]
  },
  {
   "cell_type": "code",
   "execution_count": null,
   "metadata": {
    "id": "gsqjr8pRNddk"
   },
   "outputs": [],
   "source": [
    "X = df2.drop(['DIQ010'], axis=1)\n",
    "y = df2['DIQ010']\n",
    "X_train, X_test, y_train, y_test = train_test_split(X, y, test_size=0.3, random_state=99, stratify=y)"
   ]
  },
  {
   "cell_type": "code",
   "execution_count": null,
   "metadata": {},
   "outputs": [],
   "source": [
    "clf = AdaBoostClassifier().fit(X_train, y_train)"
   ]
  },
  {
   "cell_type": "code",
   "execution_count": null,
   "metadata": {},
   "outputs": [],
   "source": [
    "testPred = clf.predict(X_test)\n",
    "trainPred = clf.predict(X_train)\n",
    "metrics.accuracy_score(y_test, testPred), metrics.accuracy_score(y_train, trainPred)"
   ]
  },
  {
   "cell_type": "code",
   "execution_count": null,
   "metadata": {},
   "outputs": [],
   "source": [
    "tn, fp, fn, tp = metrics.confusion_matrix(y_test, testPred).ravel()\n",
    "tn, fp, fn, tp"
   ]
  },
  {
   "cell_type": "code",
   "execution_count": null,
   "metadata": {},
   "outputs": [],
   "source": [
    "metrics.matthews_corrcoef(y_test, testPred)"
   ]
  },
  {
   "cell_type": "code",
   "execution_count": null,
   "metadata": {},
   "outputs": [],
   "source": [
    "metrics.recall_score(y_test, testPred)"
   ]
  },
  {
   "cell_type": "code",
   "execution_count": null,
   "metadata": {},
   "outputs": [],
   "source": [
    "metrics.precision_score(y_test, testPred)"
   ]
  },
  {
   "cell_type": "code",
   "execution_count": null,
   "metadata": {},
   "outputs": [],
   "source": [
    "metrics.recall_score(y_test, testPred)"
   ]
  },
  {
   "cell_type": "markdown",
   "metadata": {},
   "source": [
    "#### Test different  learning rates"
   ]
  },
  {
   "cell_type": "code",
   "execution_count": null,
   "metadata": {},
   "outputs": [],
   "source": [
    "recallTrain = []\n",
    "recallTest = []\n",
    "learning_rate = [0.001, 0.01, 0.1, 0.2, 0.4, 0.6, 0.8, 1, 1.2, 1.4, 1.6, 1.8, 2]\n",
    "for i in learning_rate:\n",
    "    clf = AdaBoostClassifier(learning_rate=i).fit(X_train, y_train)\n",
    "    recallTrain.append(metrics.recall_score(y_train, clf.predict(X_train)))\n",
    "    recallTest.append(metrics.recall_score(y_test, clf.predict(X_test)))"
   ]
  },
  {
   "cell_type": "code",
   "execution_count": null,
   "metadata": {},
   "outputs": [],
   "source": [
    "plt.plot(learning_rate, recallTrain, label='Train')\n",
    "plt.plot(learning_rate, recallTest, label='Test')\n",
    "plt.legend()\n",
    "plt.title('Learning Rate')"
   ]
  },
  {
   "cell_type": "markdown",
   "metadata": {},
   "source": [
    "#### test different number of estimators"
   ]
  },
  {
   "cell_type": "code",
   "execution_count": null,
   "metadata": {},
   "outputs": [],
   "source": [
    "recallTrain = []\n",
    "recallTest = []\n",
    "stubs = range(100, 1600, 100)\n",
    "for i in stubs:\n",
    "    clf = AdaBoostClassifier(n_estimators=i).fit(X_train, y_train)\n",
    "    recallTrain.append(metrics.recall_score(y_train, clf.predict(X_train)))\n",
    "    recallTest.append(metrics.recall_score(y_test, clf.predict(X_test)))"
   ]
  },
  {
   "cell_type": "code",
   "execution_count": null,
   "metadata": {},
   "outputs": [],
   "source": [
    "plt.plot(stubs, recallTrain, label='Train')\n",
    "plt.plot(stubs, recallTest, label='Test')\n",
    "plt.legend()\n",
    "plt.title('Stubs')"
   ]
  },
  {
   "cell_type": "code",
   "execution_count": null,
   "metadata": {
    "colab": {
     "base_uri": "https://localhost:8080/"
    },
    "executionInfo": {
     "elapsed": 932205,
     "status": "ok",
     "timestamp": 1604375600949,
     "user": {
      "displayName": "James Formato",
      "photoUrl": "",
      "userId": "11799095701675521078"
     },
     "user_tz": 360
    },
    "id": "NL8GJt5W4Qzx",
    "outputId": "b64b3e64-8d65-4b7d-830a-322010d1112c"
   },
   "outputs": [],
   "source": [
    "# Count of how many variables in a df have a certain number of NA's\n",
    "count = dfs.isna().sum()\n",
    "drop = []\n",
    "\n",
    "for i in range(len(count)):\n",
    "    if count[i] > 4000:\n",
    "        drop.append(count.index[i])\n",
    "        \n",
    "len(drop)"
   ]
  },
  {
   "cell_type": "code",
   "execution_count": null,
   "metadata": {
    "id": "1ne6Jw1ViZVS"
   },
   "outputs": [],
   "source": []
  }
 ],
 "metadata": {
  "colab": {
   "collapsed_sections": [],
   "name": "AdvancedMachineLearning_FinalProject.ipynb",
   "provenance": []
  },
  "kernelspec": {
   "display_name": "Python 3",
   "language": "python",
   "name": "python3"
  },
  "language_info": {
   "codemirror_mode": {
    "name": "ipython",
    "version": 3
   },
   "file_extension": ".py",
   "mimetype": "text/x-python",
   "name": "python",
   "nbconvert_exporter": "python",
   "pygments_lexer": "ipython3",
   "version": "3.8.3"
  }
 },
 "nbformat": 4,
 "nbformat_minor": 1
}
